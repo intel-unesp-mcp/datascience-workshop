{
 "cells": [
  {
   "cell_type": "markdown",
   "metadata": {},
   "source": [
    "# Hands on Session\n",
    "\n",
    "In this hand on session we will explore our hability to predict wine price based on its characteristics. \n",
    "\n",
    "## The Data\n",
    "\n",
    "We will use the (famous) wine dataset that collected a set of red Bordeaux wines data from the decades 1950 to 1970.\n",
    "\n",
    "The data available is:\n",
    "\n",
    "* **Year**: the year that the grapes were collected;\n",
    "* **Price**: the (log-scaled) price;\n",
    "* **WinterRain**: the amount of  winter rain for the given year;\n",
    "* **AGST**: data related to the geography of the place where the grape came from;\n",
    "* **HarvestRain**: the amount of rain during the harvest;\n",
    "* **Age**: the age of the wine;\n",
    "* **FrancePop**: the france population;\n",
    "\n",
    "## The activities\n",
    "\n",
    "* Build and try several (linear) models for the given dataset;\n",
    "* Calculate the error measures for each model;\n",
    "* Choose the best model for the given dataset:\n",
    "    * <font color=\"red\">Not always all variables are needed!</font>;\n",
    "    * Think about the trade-off of using less variables and loosing capacity of explaining variation;\n",
    "* Try to predict the price using the test data;\n",
    "* Try building the model in a distributed way;"
   ]
  },
  {
   "cell_type": "markdown",
   "metadata": {},
   "source": [
    "# Helping functions and Imports"
   ]
  },
  {
   "cell_type": "code",
   "execution_count": 11,
   "metadata": {
    "collapsed": false
   },
   "outputs": [],
   "source": [
    "from daal.data_management import AOSNumericTable\n",
    "from daal.data_management import SOANumericTable\n",
    "from daal.data_management import BlockDescriptor_Intc\n",
    "from daal.data_management import BlockDescriptor\n",
    "from daal.data_management import BlockDescriptor_Float64\n",
    "from daal.data_management import readOnly\n",
    "from daal.data_management import readWrite\n",
    "from daal.data_management import data_feature_utils\n",
    "from daal.data_management import HomogenNumericTable\n",
    "from daal.data_management import NumericTableIface\n",
    "from daal.data_management import MergedNumericTable\n",
    "from daal.data_management import FileDataSource\n",
    "from daal.data_management import StringDataSource\n",
    "from daal.data_management import DataSourceIface\n",
    "from daal.data_management import packed_mask\n",
    "\n",
    "from daal.algorithms.linear_regression import training\n",
    "from daal.algorithms.linear_regression import prediction\n",
    "\n",
    "import daal.algorithms.normalization.zscore as zscore\n",
    "\n",
    "from daal import step1Local\n",
    "from daal import step2Master\n",
    "\n",
    "\n",
    "import numpy as np\n",
    "\n",
    "import math\n",
    "\n",
    "from daal.algorithms import covariance \n",
    "\n"
   ]
  },
  {
   "cell_type": "code",
   "execution_count": 4,
   "metadata": {
    "collapsed": true
   },
   "outputs": [],
   "source": [
    "def printNumericTable(data_table, message='', num_printed_rows=0, num_printed_cols=0,\n",
    "                      interval=10):\n",
    "    num_rows = data_table.getNumberOfRows()\n",
    "    num_cols = data_table.getNumberOfColumns()\n",
    "    layout = data_table.getDataLayout()\n",
    "\n",
    "    if num_printed_rows != 0:\n",
    "        num_printed_rows = min(num_rows, num_printed_rows)\n",
    "    else:\n",
    "        num_printed_rows = num_rows\n",
    "\n",
    "    if num_printed_cols != 0:\n",
    "        num_printed_cols = min(num_cols, num_printed_cols)\n",
    "    else:\n",
    "        num_printed_cols = num_cols\n",
    "\n",
    "    block = BlockDescriptor()\n",
    "    if isFull(layout) or layout == NumericTableIface.csrArray:\n",
    "        data_table.getBlockOfRows(0, num_rows, readOnly, block)\n",
    "        printArray(block.getArray(), num_printed_cols, num_printed_rows,\n",
    "                   num_cols, message, interval)\n",
    "        data_table.releaseBlockOfRows(block)\n",
    "    else:\n",
    "        packed_table = data_table.getBlockOfRowsAsDouble(0, num_rows)\n",
    "        if isLower(layout):\n",
    "            printLowerArray(packed_table, num_printed_rows, message, interval)\n",
    "        elif isUpper(layout):\n",
    "            printUpperArray(packed_table, num_printed_cols, num_printed_rows,\n",
    "                            num_cols, message, interval)\n",
    "        \n",
    "def isFull(layout):\n",
    "    layout_int = int(layout)\n",
    "    if packed_mask & layout_int:\n",
    "        return False\n",
    "    return True\n",
    "\n",
    "\n",
    "def printArray(array, num_printed_cols, num_printed_rows, num_cols, message,\n",
    "               interval=10, flt64=True):\n",
    "    print(message)\n",
    "    flat_array = array.flatten()\n",
    "    decimals = '3' if flt64 else '0'\n",
    "    for i in range(num_printed_rows):\n",
    "        for j in range(num_printed_cols):\n",
    "            print(\"{:<{width}.{dec}f}\".format(\n",
    "                flat_array[i * num_cols + j], width=interval, dec=decimals), end=''\n",
    "            )\n",
    "        print()\n",
    "    print()\n",
    "\n",
    "    \n",
    "def getNPArray(data_table):\n",
    "    num_rows = data_table.getNumberOfRows()\n",
    "    num_cols = data_table.getNumberOfColumns()\n",
    "    layout = data_table.getDataLayout()\n",
    "    np_array = np.ones((num_rows, num_cols), dtype=np.int)\n",
    "    block = BlockDescriptor()\n",
    "    data_table.getBlockOfRows(0, num_rows, readOnly, block)\n",
    "    np_array = block.getArray()\n",
    "    data_table.releaseBlockOfRows(block)\n",
    "    return np_array"
   ]
  },
  {
   "cell_type": "markdown",
   "metadata": {},
   "source": [
    "# Covariance/Correlation"
   ]
  },
  {
   "cell_type": "code",
   "execution_count": 12,
   "metadata": {
    "collapsed": false
   },
   "outputs": [
    {
     "name": "stdout",
     "output_type": "stream",
     "text": [
      "Covariance matrix:\n",
      "59.167    -2.240    17.267    -1.283    16.033    -59.167   28037.729 \n",
      "-2.240    0.423     11.755    0.290     -27.264   2.240     -1112.846 \n",
      "17.267    11.755    17497.460 -28.686   -2711.455 -17.267   -786.221  \n",
      "-1.283    0.290     -28.686   0.456     -3.242    1.283     -641.559  \n",
      "16.033    -27.264   -2711.455 -3.242    5538.257  -16.033   11255.584 \n",
      "-59.167   2.240     -17.267   1.283     -16.033   59.167    -28037.729\n",
      "28037.729 -1112.846 -786.221  -641.559  11255.584 -28037.72913434205.952\n",
      "\n",
      "Mean vector:\n",
      "1965.800  7.067     605.280   16.509    148.560   17.200    49694.437 \n",
      "\n"
     ]
    }
   ],
   "source": [
    "dataSource = FileDataSource(                                                                                                                                                                           \n",
    "    \"wine.csv\",                                                                                                                                                                                      \n",
    "    DataSourceIface.doAllocateNumericTable,                                                                                                                                                            \n",
    "    DataSourceIface.doDictionaryFromContext                                                                                                                                                            \n",
    ")                                                                                                                                                                                                      \n",
    "                                                                                                                                                                                                       \n",
    "# Retrieve the data from input file                                                                                                                                                                    \n",
    "dataSource.loadDataBlock()                                                                                                                                                                             \n",
    "                                                                                                                                                                                                       \n",
    "# Create algorithm to compute dense variance-covariance matrix in batch mode                                                                                                                           \n",
    "algorithm = covariance.Batch()                                                                                                                                                                                    \n",
    "                                                                                                                                                                                                       \n",
    "# Set input arguments of the algorithm                                                                                                                                                                 \n",
    "algorithm.input.set(covariance.data, dataSource.getNumericTable())                                                                                                                                                \n",
    "                                                                                                                                                                                                       \n",
    "# Get computed variance-covariance matrix                                                                                                                                                              \n",
    "res = algorithm.compute()                                                                                                                                                                              \n",
    "                                                                                                                                                                                                       \n",
    "# Print values                                                                                                                                                                                         \n",
    "printNumericTable(res.get(covariance.covariance), \"Covariance matrix:\")                                                                                                                                           \n",
    "printNumericTable(res.get(covariance.mean), \"Mean vector:\")    "
   ]
  }
 ],
 "metadata": {
  "kernelspec": {
   "display_name": "Python 3",
   "language": "python",
   "name": "python3"
  },
  "language_info": {
   "codemirror_mode": {
    "name": "ipython",
    "version": 3
   },
   "file_extension": ".py",
   "mimetype": "text/x-python",
   "name": "python",
   "nbconvert_exporter": "python",
   "pygments_lexer": "ipython3",
   "version": "3.5.1"
  }
 },
 "nbformat": 4,
 "nbformat_minor": 0
}
