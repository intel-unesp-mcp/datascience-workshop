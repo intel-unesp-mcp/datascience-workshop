{
 "cells": [
  {
   "cell_type": "code",
   "execution_count": 19,
   "metadata": {
    "collapsed": true
   },
   "outputs": [],
   "source": [
    "%load_ext rpy2.ipython"
   ]
  },
  {
   "cell_type": "code",
   "execution_count": 1,
   "metadata": {
    "collapsed": true
   },
   "outputs": [],
   "source": [
    "from daal.data_management import AOSNumericTable\n",
    "from daal.data_management import SOANumericTable\n",
    "from daal.data_management import BlockDescriptor_Intc\n",
    "from daal.data_management import BlockDescriptor\n",
    "from daal.data_management import BlockDescriptor_Float64\n",
    "from daal.data_management import readOnly\n",
    "from daal.data_management import readWrite\n",
    "from daal.data_management import data_feature_utils\n",
    "from daal.data_management import HomogenNumericTable\n",
    "from daal.data_management import NumericTableIface\n",
    "from daal.data_management import MergedNumericTable\n",
    "from daal.data_management import FileDataSource\n",
    "from daal.data_management import StringDataSource\n",
    "from daal.data_management import DataSourceIface\n",
    "from daal.data_management import packed_mask\n",
    "\n",
    "from daal.algorithms.linear_regression import training\n",
    "from daal.algorithms.linear_regression import prediction\n",
    "\n",
    "import daal.algorithms.normalization.zscore as zscore\n",
    "\n",
    "from daal import step1Local\n",
    "from daal import step2Master\n",
    "\n",
    "\n",
    "import numpy as np\n",
    "\n",
    "import math"
   ]
  },
  {
   "cell_type": "code",
   "execution_count": 4,
   "metadata": {
    "collapsed": true
   },
   "outputs": [],
   "source": [
    "def printNumericTable(data_table, message='', num_printed_rows=0, num_printed_cols=0,\n",
    "                      interval=10):\n",
    "    num_rows = data_table.getNumberOfRows()\n",
    "    num_cols = data_table.getNumberOfColumns()\n",
    "    layout = data_table.getDataLayout()\n",
    "\n",
    "    if num_printed_rows != 0:\n",
    "        num_printed_rows = min(num_rows, num_printed_rows)\n",
    "    else:\n",
    "        num_printed_rows = num_rows\n",
    "\n",
    "    if num_printed_cols != 0:\n",
    "        num_printed_cols = min(num_cols, num_printed_cols)\n",
    "    else:\n",
    "        num_printed_cols = num_cols\n",
    "\n",
    "    block = BlockDescriptor()\n",
    "    if isFull(layout) or layout == NumericTableIface.csrArray:\n",
    "        data_table.getBlockOfRows(0, num_rows, readOnly, block)\n",
    "        printArray(block.getArray(), num_printed_cols, num_printed_rows,\n",
    "                   num_cols, message, interval)\n",
    "        data_table.releaseBlockOfRows(block)\n",
    "    else:\n",
    "        packed_table = data_table.getBlockOfRowsAsDouble(0, num_rows)\n",
    "        if isLower(layout):\n",
    "            printLowerArray(packed_table, num_printed_rows, message, interval)\n",
    "        elif isUpper(layout):\n",
    "            printUpperArray(packed_table, num_printed_cols, num_printed_rows,\n",
    "                            num_cols, message, interval)\n",
    "        \n",
    "def isFull(layout):\n",
    "    layout_int = int(layout)\n",
    "    if packed_mask & layout_int:\n",
    "        return False\n",
    "    return True\n",
    "\n",
    "\n",
    "def printArray(array, num_printed_cols, num_printed_rows, num_cols, message,\n",
    "               interval=10, flt64=True):\n",
    "    print(message)\n",
    "    flat_array = array.flatten()\n",
    "    decimals = '3' if flt64 else '0'\n",
    "    for i in range(num_printed_rows):\n",
    "        for j in range(num_printed_cols):\n",
    "            print(\"{:<{width}.{dec}f}\".format(\n",
    "                flat_array[i * num_cols + j], width=interval, dec=decimals), end=''\n",
    "            )\n",
    "        print()\n",
    "    print()\n",
    "\n",
    "    \n",
    "def getNPArray(data_table):\n",
    "    num_rows = data_table.getNumberOfRows()\n",
    "    num_cols = data_table.getNumberOfColumns()\n",
    "    layout = data_table.getDataLayout()\n",
    "    np_array = np.ones((num_rows, num_cols), dtype=np.int)\n",
    "    block = BlockDescriptor()\n",
    "    data_table.getBlockOfRows(0, num_rows, readOnly, block)\n",
    "    np_array = block.getArray()\n",
    "    data_table.releaseBlockOfRows(block)\n",
    "    return np_array"
   ]
  },
  {
   "cell_type": "code",
   "execution_count": 13,
   "metadata": {
    "collapsed": false
   },
   "outputs": [
    {
     "name": "stdout",
     "output_type": "stream",
     "text": [
      "Observations read: 25\n",
      "\n",
      "1952.000  7.495     600.000   17.117    160.000   31.000    43183.569 \n",
      "1953.000  8.039     690.000   16.733    80.000    30.000    43495.030 \n",
      "1955.000  7.686     502.000   17.150    130.000   28.000    44217.857 \n",
      "1957.000  6.984     420.000   16.133    110.000   26.000    45152.252 \n",
      "1958.000  6.777     582.000   16.417    187.000   25.000    45653.805 \n",
      "1959.000  8.076     485.000   17.483    187.000   24.000    46128.638 \n",
      "1960.000  6.519     763.000   16.417    290.000   23.000    46583.995 \n",
      "1961.000  8.494     830.000   17.333    38.000    22.000    47128.005 \n",
      "1962.000  7.388     697.000   16.300    52.000    21.000    48088.673 \n",
      "1963.000  6.713     608.000   15.717    155.000   20.000    48798.990 \n",
      "1964.000  7.309     402.000   17.267    96.000    19.000    49356.943 \n",
      "1965.000  6.252     602.000   15.367    267.000   18.000    49801.821 \n",
      "1966.000  7.744     819.000   16.533    86.000    17.000    50254.966 \n",
      "1967.000  6.840     714.000   16.233    118.000   16.000    50650.406 \n",
      "1968.000  6.244     610.000   16.200    292.000   15.000    51034.413 \n",
      "1969.000  6.346     575.000   16.550    244.000   14.000    51470.276 \n",
      "1970.000  7.588     622.000   16.667    89.000    13.000    51918.389 \n",
      "1971.000  7.193     551.000   16.767    112.000   12.000    52431.647 \n",
      "1972.000  6.205     536.000   14.983    158.000   11.000    52894.183 \n",
      "1973.000  6.637     376.000   17.067    123.000   10.000    53332.805 \n",
      "1974.000  6.294     574.000   16.300    184.000   9.000     53689.610 \n",
      "1975.000  7.292     572.000   16.950    171.000   8.000     53955.042 \n",
      "1976.000  7.121     418.000   17.650    247.000   7.000     54159.049 \n",
      "1977.000  6.259     821.000   15.583    87.000    6.000     54378.362 \n",
      "1978.000  7.186     763.000   15.817    51.000    5.000     54602.193 \n",
      "\n"
     ]
    }
   ],
   "source": [
    "nFeatures1 = 5\n",
    "nFeatures2 = 1\n",
    "nOutcomes = 1\n",
    "\n",
    "trainDatasetFileName = 'wine.csv'\n",
    "\n",
    "trainDataSource = FileDataSource(trainDatasetFileName, \n",
    "                                 DataSourceIface.notAllocateNumericTable,\n",
    "                                 DataSourceIface.doDictionaryFromContext)\n",
    "\n",
    "trainData_sub1 = HomogenNumericTable(nFeatures1, 0, NumericTableIface.notAllocate)\n",
    "trainData_sub2 = HomogenNumericTable(nFeatures2, 0, NumericTableIface.notAllocate)\n",
    "\n",
    "trainOutcome = HomogenNumericTable(nOutcomes, 0, NumericTableIface.notAllocate)\n",
    "\n",
    "mergedData1 = MergedNumericTable(trainData_sub2, trainOutcome)\n",
    "\n",
    "mergedData2 = MergedNumericTable(mergedData1, trainData_sub1)\n",
    "\n",
    "nObservations = trainDataSource.loadDataBlock(mergedData2)\n",
    "\n",
    "trainData = MergedNumericTable(trainData_sub2,trainData_sub1)\n",
    "\n",
    "print(\"Observations read: {}\".format(nObservations))\n",
    "\n",
    "printNumericTable(mergedData2)\n"
   ]
  },
  {
   "cell_type": "code",
   "execution_count": 17,
   "metadata": {
    "collapsed": false
   },
   "outputs": [
    {
     "name": "stdout",
     "output_type": "stream",
     "text": [
      "Linear Regression coefficients:\n",
      "-392.622  0.198     0.001     0.601     -0.004    0.198     -0.000    \n",
      "\n"
     ]
    }
   ],
   "source": [
    "algorithm = training.Batch_Float64NormEqDense()\n",
    "\n",
    "algorithm.input.set(training.data, trainData)\n",
    "algorithm.input.set(training.dependentVariables, trainOutcome)\n",
    "                                     \n",
    "trainingResult = algorithm.compute()\n",
    "printNumericTable(trainingResult.get(training.model).getBeta(), \"Linear Regression coefficients:\")\n"
   ]
  },
  {
   "cell_type": "code",
   "execution_count": 18,
   "metadata": {
    "collapsed": false
   },
   "outputs": [
    {
     "name": "stdout",
     "output_type": "stream",
     "text": [
      "0.829359222337\n"
     ]
    }
   ],
   "source": [
    "algorithm = prediction.Batch()\n",
    "algorithm.input.setTable(prediction.data, trainData)\n",
    "algorithm.input.setModel(prediction.model, trainingResult.get(training.model))\n",
    "\n",
    "predictionResult = algorithm.compute()\n",
    "\n",
    "prediction_result = getNPArray(predictionResult.get(prediction.prediction))\n",
    "real_values = getNPArray(trainOutcome)\n",
    "\n",
    "real_values_mean = np.sum(real_values)/len(real_values)\n",
    "ssreg = np.sum((prediction_result-real_values_mean)**2)\n",
    "sstot = np.sum((real_values - real_values_mean)**2)\n",
    "r_squared = ssreg / sstot\n",
    "\n",
    "print(r_squared)"
   ]
  },
  {
   "cell_type": "code",
   "execution_count": 31,
   "metadata": {
    "collapsed": false
   },
   "outputs": [
    {
     "data": {
      "text/plain": [
       "[1] \"Year\"        \"Price\"       \"WinterRain\"  \"AGST\"        \"HarvestRain\"\n",
       "[6] \"Age\"         \"FrancePop\"  \n",
       "[1] 0.2004961\n"
      ]
     },
     "metadata": {},
     "output_type": "display_data"
    }
   ],
   "source": [
    "%%R\n",
    "dataset = read.csv(\"wine.csv\")\n",
    "\n",
    "colnames(dataset) = c(\"Year\", \"Price\", \"WinterRain\", \n",
    "                      \"AGST\", \"HarvestRain\",\"Age\", \"FrancePop\")\n",
    "\n",
    "print(colnames(dataset))\n",
    "\n",
    "model = lm(Price ~ Year, data=dataset)\n",
    "\n",
    "print(summary(model)$r.squared)\n"
   ]
  }
 ],
 "metadata": {
  "kernelspec": {
   "display_name": "Python 3",
   "language": "python",
   "name": "python3"
  },
  "language_info": {
   "codemirror_mode": {
    "name": "ipython",
    "version": 3
   },
   "file_extension": ".py",
   "mimetype": "text/x-python",
   "name": "python",
   "nbconvert_exporter": "python",
   "pygments_lexer": "ipython3",
   "version": "3.5.1"
  }
 },
 "nbformat": 4,
 "nbformat_minor": 0
}
