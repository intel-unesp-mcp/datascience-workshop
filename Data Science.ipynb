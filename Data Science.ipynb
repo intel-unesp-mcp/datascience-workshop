{
 "cells": [
  {
   "cell_type": "code",
   "execution_count": 1,
   "metadata": {
    "collapsed": false,
    "slideshow": {
     "slide_type": "skip"
    }
   },
   "outputs": [],
   "source": [
    "%load_ext rpy2.ipython"
   ]
  },
  {
   "cell_type": "code",
   "execution_count": 2,
   "metadata": {
    "collapsed": false,
    "hideCode": false,
    "hideOutput": true,
    "hidePrompt": true,
    "slideshow": {
     "slide_type": "skip"
    }
   },
   "outputs": [
    {
     "name": "stderr",
     "output_type": "stream",
     "text": [
      "/opt/intel/intelpython35/lib/python3.5/site-packages/rpy2/rinterface/__init__.py:185: RRuntimeWarning: Carregando pacotes exigidos: ggplot2\n",
      "\n",
      "  warnings.warn(x, RRuntimeWarning)\n"
     ]
    },
    {
     "data": {
      "text/plain": [
       "array([1], dtype=int32)"
      ]
     },
     "execution_count": 2,
     "metadata": {},
     "output_type": "execute_result"
    }
   ],
   "source": [
    "%R require(ggplot2)"
   ]
  },
  {
   "cell_type": "code",
   "execution_count": 3,
   "metadata": {
    "collapsed": false,
    "slideshow": {
     "slide_type": "skip"
    }
   },
   "outputs": [],
   "source": [
    "from daal.data_management import AOSNumericTable\n",
    "from daal.data_management import SOANumericTable\n",
    "from daal.data_management import BlockDescriptor_Intc\n",
    "from daal.data_management import BlockDescriptor\n",
    "from daal.data_management import BlockDescriptor_Float64\n",
    "from daal.data_management import readOnly\n",
    "from daal.data_management import readWrite\n",
    "from daal.data_management import data_feature_utils\n",
    "from daal.data_management import HomogenNumericTable\n",
    "from daal.data_management import NumericTableIface\n",
    "from daal.data_management import MergedNumericTable\n",
    "from daal.data_management import FileDataSource\n",
    "from daal.data_management import StringDataSource\n",
    "from daal.data_management import DataSourceIface\n",
    "from daal.data_management import packed_mask\n",
    "\n",
    "from daal.algorithms.linear_regression import training\n",
    "from daal.algorithms.linear_regression import prediction\n",
    "\n",
    "import daal.algorithms.normalization.zscore as zscore\n",
    "\n",
    "from daal import step1Local\n",
    "from daal import step2Master\n",
    "\n",
    "\n",
    "import numpy as np\n",
    "\n",
    "import math"
   ]
  },
  {
   "cell_type": "code",
   "execution_count": 4,
   "metadata": {
    "collapsed": false,
    "slideshow": {
     "slide_type": "skip"
    }
   },
   "outputs": [],
   "source": [
    "def printNumericTable(data_table, message='', num_printed_rows=0, num_printed_cols=0,\n",
    "                      interval=10):\n",
    "    num_rows = data_table.getNumberOfRows()\n",
    "    num_cols = data_table.getNumberOfColumns()\n",
    "    layout = data_table.getDataLayout()\n",
    "\n",
    "    if num_printed_rows != 0:\n",
    "        num_printed_rows = min(num_rows, num_printed_rows)\n",
    "    else:\n",
    "        num_printed_rows = num_rows\n",
    "\n",
    "    if num_printed_cols != 0:\n",
    "        num_printed_cols = min(num_cols, num_printed_cols)\n",
    "    else:\n",
    "        num_printed_cols = num_cols\n",
    "\n",
    "    block = BlockDescriptor()\n",
    "    if isFull(layout) or layout == NumericTableIface.csrArray:\n",
    "        data_table.getBlockOfRows(0, num_rows, readOnly, block)\n",
    "        printArray(block.getArray(), num_printed_cols, num_printed_rows,\n",
    "                   num_cols, message, interval)\n",
    "        data_table.releaseBlockOfRows(block)\n",
    "    else:\n",
    "        packed_table = data_table.getBlockOfRowsAsDouble(0, num_rows)\n",
    "        if isLower(layout):\n",
    "            printLowerArray(packed_table, num_printed_rows, message, interval)\n",
    "        elif isUpper(layout):\n",
    "            printUpperArray(packed_table, num_printed_cols, num_printed_rows,\n",
    "                            num_cols, message, interval)\n",
    "        \n",
    "def isFull(layout):\n",
    "    layout_int = int(layout)\n",
    "    if packed_mask & layout_int:\n",
    "        return False\n",
    "    return True\n",
    "\n",
    "\n",
    "def printArray(array, num_printed_cols, num_printed_rows, num_cols, message,\n",
    "               interval=10, flt64=True):\n",
    "    print(message)\n",
    "    flat_array = array.flatten()\n",
    "    decimals = '3' if flt64 else '0'\n",
    "    for i in range(num_printed_rows):\n",
    "        for j in range(num_printed_cols):\n",
    "            print(\"{:<{width}.{dec}f}\".format(\n",
    "                flat_array[i * num_cols + j], width=interval, dec=decimals), end=''\n",
    "            )\n",
    "        print()\n",
    "    print()\n",
    "\n",
    "    \n",
    "def getNPArray(data_table):\n",
    "    num_rows = data_table.getNumberOfRows()\n",
    "    num_cols = data_table.getNumberOfColumns()\n",
    "    layout = data_table.getDataLayout()\n",
    "    np_array = np.ones((num_rows, num_cols), dtype=np.int)\n",
    "    block = BlockDescriptor()\n",
    "    data_table.getBlockOfRows(0, num_rows, readOnly, block)\n",
    "    np_array = block.getArray()\n",
    "    data_table.releaseBlockOfRows(block)\n",
    "    return np_array"
   ]
  },
  {
   "cell_type": "markdown",
   "metadata": {
    "slideshow": {
     "slide_type": "slide"
    }
   },
   "source": [
    "</div>\n",
    "    <h1>Leveraging Data Analytics with Intel DAAL</h1>\n",
    "    <h3>Raphael Mendes de Oliveira Cóbe</h3>\n",
    "    <p>rmcobe@ncc.unesp.br</p>\n",
    "    <p>Source available on <a href=\"https://github.com/raphaelmcobe/intel-datascience-workshop\">Github</a>\n",
    "\n",
    "</div>\n",
    "<div style=\"width:80%; margin-left:auto; margin-right:auto;\">\n",
    "    <img src=intel_logo.png style=\"height:170px; float:left;\"/>\n",
    "    <img src=ncc_logo.png style=\"height:170px; float:right;\"/></div>\n",
    "<div>"
   ]
  },
  {
   "cell_type": "markdown",
   "metadata": {
    "slideshow": {
     "slide_type": "subslide"
    }
   },
   "source": [
    "# NCC/Unesp\n",
    "\n",
    "* GridUnesp\n",
    "    * 256 WorkerNodes\n",
    "    \n",
    "* Sprace\n",
    "    * Tier-2 Cern\n",
    "    * 1PB Raw Data"
   ]
  },
  {
   "cell_type": "markdown",
   "metadata": {
    "slideshow": {
     "slide_type": "slide"
    }
   },
   "source": [
    "# Data Science\n",
    "\n",
    "* Recently open field that put together lots of concepts of other fields, such as:\n",
    "  * Getting Data (**Open Data!**);\n",
    "  * Data Analysis;\n",
    "  * Data Visualization;\n",
    "  * Data Modelling;\n",
    "  * **Prediction**;\n",
    "  * Big Data"
   ]
  },
  {
   "cell_type": "markdown",
   "metadata": {
    "slideshow": {
     "slide_type": "slide"
    }
   },
   "source": [
    "# Intel Data Analytics Acceleration Library\n",
    "* Delivers high application performance across spectrum of Intel®-architecture devices\n",
    "* Speeds time-to-value through data source and environment integration \n",
    "* Reduces application development time via wide selection of pre-optimized advanced analytics algorithms"
   ]
  },
  {
   "cell_type": "markdown",
   "metadata": {
    "slideshow": {
     "slide_type": "slide"
    }
   },
   "source": [
    "# Data Management\n",
    "\n",
    "* Data Table\n",
    "<center><img src=\"datatable.png\" width=400 style=\"transform:rotate(90deg);\"/></center>"
   ]
  },
  {
   "cell_type": "markdown",
   "metadata": {
    "slideshow": {
     "slide_type": "subslide"
    }
   },
   "source": [
    "# Data Management and Data Structures\n",
    "\n",
    "* **Heterogeneous Tables** are used when there are multiple data types in a data set (e.g.double, string, etc.) \n",
    "    * Structures supported: **Structures of Arrays (SoA)** and **Arrays of Structures (AoS)**. \n",
    "* **Homogeneous Tables** are used when the data set has only one type of data. \n",
    "    * Two types of homogeneous tables: **dense** and **sparse**. "
   ]
  },
  {
   "cell_type": "markdown",
   "metadata": {
    "slideshow": {
     "slide_type": "subslide"
    }
   },
   "source": [
    "# Data Management and Data Structures\n",
    "\n",
    "* **Matrices** are used when the application requires matrix algebra type workloads\n",
    "    * Three kinds of matrices supported: **dense matrix**, **packed symmetric matrix**, and **packed triangular matri-ces**. \n",
    "\n",
    "\n"
   ]
  },
  {
   "cell_type": "markdown",
   "metadata": {
    "slideshow": {
     "slide_type": "subslide"
    }
   },
   "source": [
    "# AOS vs SOA\n",
    "\n",
    "<center><img src=\"aos.png\" style=\"height:220px;\"/></center>\n",
    "<center><img src=\"soa.png\" style=\"height:320px;\"/></center>"
   ]
  },
  {
   "cell_type": "markdown",
   "metadata": {
    "slideshow": {
     "slide_type": "subslide"
    }
   },
   "source": [
    "# Loading Data from a NumPy Array (AOS)\n",
    "\n",
    "* Loading from a NumPy Array:"
   ]
  },
  {
   "cell_type": "code",
   "execution_count": 5,
   "metadata": {
    "collapsed": false,
    "slideshow": {
     "slide_type": "fragment"
    }
   },
   "outputs": [],
   "source": [
    "points = np.array([(0.5, -1.3, 1, 100.1),\n",
    "                   (2.5, -3.3, 2, 200.2),\n",
    "                   (4.5, -5.3, 2, 350.3),\n",
    "                   (6.5, -7.3, 0, 470.4),\n",
    "                   (8.5, -9.3, 1, 270.5)],\n",
    "                  dtype=[('x','f4'), ('y','f4'), \n",
    "                         ('categ','i4'), ('value','f8')])  \n",
    "\n",
    "\n",
    "dataTable = AOSNumericTable(points)    "
   ]
  },
  {
   "cell_type": "markdown",
   "metadata": {
    "slideshow": {
     "slide_type": "subslide"
    }
   },
   "source": [
    "# Retrieving values of a Feature\n",
    "* By Column"
   ]
  },
  {
   "cell_type": "code",
   "execution_count": 6,
   "metadata": {
    "collapsed": false,
    "slideshow": {
     "slide_type": "fragment"
    }
   },
   "outputs": [
    {
     "name": "stdout",
     "output_type": "stream",
     "text": [
      "[[ 4.5]\n",
      " [ 6.5]\n",
      " [ 8.5]]\n"
     ]
    }
   ],
   "source": [
    "nObservations = len(points)\n",
    "firstReadRow = 2\n",
    "readFeatureIdx = 0\n",
    "\n",
    "floatBlock = BlockDescriptor_Float64()\n",
    "dataTable.getBlockOfColumnValues(readFeatureIdx, firstReadRow,\n",
    "                                 nObservations, readOnly, floatBlock)\n",
    "dataTable.releaseBlockOfColumnValues(floatBlock)\n",
    "print(floatBlock.getArray())"
   ]
  },
  {
   "cell_type": "markdown",
   "metadata": {
    "slideshow": {
     "slide_type": "subslide"
    }
   },
   "source": [
    "# Retrieving values of a Feature\n",
    "* By Rows"
   ]
  },
  {
   "cell_type": "code",
   "execution_count": 7,
   "metadata": {
    "collapsed": false,
    "slideshow": {
     "slide_type": "fragment"
    }
   },
   "outputs": [
    {
     "name": "stdout",
     "output_type": "stream",
     "text": [
      "Block of Rows:\n",
      "[[   4.5          -5.30000019    2.          350.3       ]\n",
      " [   6.5          -7.30000019    0.          470.4       ]\n",
      " [   8.5          -9.30000019    1.          270.5       ]]\n"
     ]
    }
   ],
   "source": [
    "firstReadRow = 2\n",
    "nRead = 3\n",
    "doubleBlock = BlockDescriptor_Float64()\n",
    "dataTable.getBlockOfRows(firstReadRow, nRead, readOnly, doubleBlock)\n",
    "\n",
    "print(\"Block of Rows:\")\n",
    "print(doubleBlock.getArray())\n"
   ]
  },
  {
   "cell_type": "markdown",
   "metadata": {
    "slideshow": {
     "slide_type": "subslide"
    }
   },
   "source": [
    "# Loading Data from a NumPy Array (SOA)"
   ]
  },
  {
   "cell_type": "code",
   "execution_count": 8,
   "metadata": {
    "collapsed": true,
    "slideshow": {
     "slide_type": "skip"
    }
   },
   "outputs": [],
   "source": [
    "def toString(v):\n",
    "    if v == data_feature_utils.DAAL_CATEGORICAL:\n",
    "        return \"DAAL_CATEGORICAL\"\n",
    "    elif v == data_feature_utils.DAAL_ORDINAL:\n",
    "        return \"DAAL_ORDINAL\"\n",
    "    elif v == data_feature_utils.DAAL_CONTINUOUS:\n",
    "        return \"DAAL_CONTINUOUS\"\n",
    "    else:\n",
    "        return \"[Unknown FeatureType]\"\n"
   ]
  },
  {
   "cell_type": "code",
   "execution_count": 9,
   "metadata": {
    "collapsed": false,
    "slideshow": {
     "slide_type": "fragment"
    }
   },
   "outputs": [],
   "source": [
    "nObservations = 10\n",
    "nFeatures = 4\n",
    "\n",
    "dDataSOA = np.array([1.0, 1.2, 1.4, 1.6, 1.8, 2.0, 2.2, 2.4, 2.6, 2.8], dtype=np.float64)\n",
    "fDataSOA = np.array([3.1, 3.2, 3.3, 3.4, 3.5, 3.6, 3.7, 3.8, 3.9, 4.0], dtype=np.float32)\n",
    "iDataSOA = np.array([-10, -20, -30, -40, -50, -60, -70, -80, -90, -100], dtype=np.int32)\n",
    "cDataSOA = np.array([1, 2, 3, 4, 5, 1, 2, 3, 4, 5], dtype=np.uint8)\n",
    "\n",
    "dataTable = SOANumericTable(nFeatures, nObservations)\n",
    "dataTable.setArray(cDataSOA, 0)\n",
    "dataTable.setArray(fDataSOA, 1)\n",
    "dataTable.setArray(dDataSOA, 2)\n",
    "dataTable.setArray(iDataSOA, 3)"
   ]
  },
  {
   "cell_type": "markdown",
   "metadata": {
    "slideshow": {
     "slide_type": "subslide"
    }
   },
   "source": [
    "# Setting and Retrieving data Types"
   ]
  },
  {
   "cell_type": "markdown",
   "metadata": {
    "slideshow": {
     "slide_type": "-"
    }
   },
   "source": [
    "* Setting datatypes:"
   ]
  },
  {
   "cell_type": "code",
   "execution_count": 10,
   "metadata": {
    "collapsed": true,
    "slideshow": {
     "slide_type": "fragment"
    }
   },
   "outputs": [],
   "source": [
    "dict = dataTable.getDictionary()\n",
    "dict[0].featureType = data_feature_utils.DAAL_CONTINUOUS\n",
    "dict[1].featureType = data_feature_utils.DAAL_CONTINUOUS\n",
    "dict[2].featureType = data_feature_utils.DAAL_CONTINUOUS\n",
    "dict[3].featureType = data_feature_utils.DAAL_CATEGORICAL"
   ]
  },
  {
   "cell_type": "markdown",
   "metadata": {
    "slideshow": {
     "slide_type": "fragment"
    }
   },
   "source": [
    "* Retrieving datatypes:"
   ]
  },
  {
   "cell_type": "code",
   "execution_count": 11,
   "metadata": {
    "collapsed": false,
    "slideshow": {
     "slide_type": "fragment"
    }
   },
   "outputs": [
    {
     "name": "stdout",
     "output_type": "stream",
     "text": [
      "\n",
      "DataTypes:\n",
      "0: DAAL_CONTINUOUS, 1: DAAL_CONTINUOUS, 2: DAAL_CONTINUOUS, 3: DAAL_CATEGORICAL, "
     ]
    }
   ],
   "source": [
    "pDictionary = dataTable.getDictionary()\n",
    "print(\"\\nDataTypes:\")\n",
    "for i in range(0, nFeatures):\n",
    "    featureType = pDictionary[i].featureType\n",
    "    print(\"{}: {}\".format(i, toString(featureType)), end=', ')\n"
   ]
  },
  {
   "cell_type": "markdown",
   "metadata": {
    "slideshow": {
     "slide_type": "subslide"
    }
   },
   "source": [
    "# Merging data\n",
    "\n",
    "* `MergedNumericTable`\n",
    "\n",
    "\n"
   ]
  },
  {
   "cell_type": "code",
   "execution_count": 12,
   "metadata": {
    "collapsed": false,
    "slideshow": {
     "slide_type": "fragment"
    }
   },
   "outputs": [],
   "source": [
    "data1 = np.array([(0.0, 0.1, 0.2, 0.3, 0.4),\n",
    "                  (1.0, 1.1, 1.2, 1.3, 1.4),\n",
    "                  (2.0, 2.1, 2.2, 2.3, 2.4),\n",
    "                  (3.0, 3.1, 3.2, 3.3, 3.4),\n",
    "                  (4.0, 4.1, 4.2, 4.3, 4.4),])\n",
    "\n",
    "data2 = np.array([(0.5, 0.6, 0.7, 0.8, 0.9, 1),\n",
    "                  (1.5, 1.6, 1.7, 1.8, 1.9, 2),\n",
    "                  (2.5, 2.6, 2.7, 2.8, 2.9, 3),\n",
    "                  (3.5, 3.6, 3.7, 3.8, 3.9, 4),\n",
    "                  (4.5, 4.6, 4.7, 4.8, 4.9, 5),])\n",
    "\n",
    "\n",
    "dataTable1 = HomogenNumericTable(data1)\n",
    "dataTable2 = HomogenNumericTable(data2)\n",
    "\n",
    "dataTable = MergedNumericTable()\n",
    "dataTable.addNumericTable(dataTable1)\n",
    "dataTable.addNumericTable(dataTable2)"
   ]
  },
  {
   "cell_type": "markdown",
   "metadata": {
    "slideshow": {
     "slide_type": "subslide"
    }
   },
   "source": [
    "# Merging data\n",
    "\n",
    "* Modifying data"
   ]
  },
  {
   "cell_type": "code",
   "execution_count": 13,
   "metadata": {
    "collapsed": false,
    "slideshow": {
     "slide_type": "fragment"
    }
   },
   "outputs": [
    {
     "name": "stdout",
     "output_type": "stream",
     "text": [
      "[ 3.   3.1  3.2  3.3  3.4  3.5  3.6  3.7  3.8  3.9  4. ]\n",
      "[[ 10.  10.  10.  10.  10.  10.  10.  10.  10.  10.  10.]]\n"
     ]
    }
   ],
   "source": [
    "nFeatures1 = 5\n",
    "nFeatures2 = 6\n",
    "firstReadRow = 3\n",
    "nRead = 1\n",
    "\n",
    "\n",
    "block = BlockDescriptor_Float64()\n",
    "dataTable.getBlockOfRows(firstReadRow, nRead, readWrite, block)\n",
    "print(block.getArray().flatten())\n",
    "\n",
    "selected_row = block.getArray()\n",
    "for i in range(0,len(selected_row[0])):\n",
    "    selected_row[0][i] = 10\n",
    "    \n",
    "print(block.getArray())\n",
    "dataTable.releaseBlockOfRows(block)\n",
    "\n"
   ]
  },
  {
   "cell_type": "markdown",
   "metadata": {
    "slideshow": {
     "slide_type": "subslide"
    }
   },
   "source": [
    "# Merging data\n",
    "\n",
    "* Modifying data (2)"
   ]
  },
  {
   "cell_type": "code",
   "execution_count": 14,
   "metadata": {
    "collapsed": false,
    "slideshow": {
     "slide_type": "fragment"
    }
   },
   "outputs": [
    {
     "name": "stdout",
     "output_type": "stream",
     "text": [
      "[[ 10.  10.  10.  10.  10.]]\n",
      "[[ 10.  10.  10.  10.  10.  10.]]\n"
     ]
    }
   ],
   "source": [
    "dataTable1.getBlockOfRows(firstReadRow, nRead, readOnly, block)\n",
    "print(block.getArray())\n",
    "dataTable1.releaseBlockOfRows(block)\n",
    "\n",
    "dataTable2.getBlockOfRows(firstReadRow, nRead, readOnly, block)\n",
    "print(block.getArray())\n",
    "dataTable2.releaseBlockOfRows(block)"
   ]
  },
  {
   "cell_type": "markdown",
   "metadata": {
    "slideshow": {
     "slide_type": "slide"
    }
   },
   "source": [
    "# Reading from CSV files"
   ]
  },
  {
   "cell_type": "code",
   "execution_count": 15,
   "metadata": {
    "collapsed": false,
    "slideshow": {
     "slide_type": "fragment"
    }
   },
   "outputs": [
    {
     "name": "stdout",
     "output_type": "stream",
     "text": [
      "Observations read: 435\n"
     ]
    }
   ],
   "source": [
    "nFeatures = 4\n",
    "nOutcomes = 1\n",
    "\n",
    "trainDatasetFileName = './housing-train.csv'\n",
    "\n",
    "trainDataSource = FileDataSource(trainDatasetFileName, \n",
    "                            DataSourceIface.notAllocateNumericTable,\n",
    "                            DataSourceIface.doDictionaryFromContext)\n",
    "\n",
    "trainData = HomogenNumericTable(nFeatures, 0, \n",
    "                                NumericTableIface.notAllocate)\n",
    "trainOutcome = HomogenNumericTable(nOutcomes, 0, \n",
    "                                   NumericTableIface.notAllocate)\n",
    "mergedData = MergedNumericTable(trainOutcome, trainData)\n",
    "nObservations = trainDataSource.loadDataBlock(mergedData)\n",
    "print(\"Observations read: {}\".format(nObservations))\n"
   ]
  },
  {
   "cell_type": "markdown",
   "metadata": {
    "slideshow": {
     "slide_type": "slide"
    }
   },
   "source": [
    "# Data Sampling\n",
    "\n",
    "* With or without Replacement."
   ]
  },
  {
   "cell_type": "code",
   "execution_count": 16,
   "metadata": {
    "collapsed": false,
    "slideshow": {
     "slide_type": "fragment"
    }
   },
   "outputs": [
    {
     "name": "stdout",
     "output_type": "stream",
     "text": [
      "436\n",
      "110\n",
      "436\n",
      "110\n"
     ]
    }
   ],
   "source": [
    "from numpy import genfromtxt\n",
    "data = np.genfromtxt('housing-full.csv', delimiter=',')\n",
    "sample = np.random.choice(len(data),size=math.floor(.8*len(data)),\n",
    "                          replace=False)\n",
    "\n",
    "select = np.in1d(range(data.shape[0]), sample)\n",
    "\n",
    "print(len(data[select,:]))\n",
    "print(len(data[~select,:]))\n",
    "\n",
    "train_data = HomogenNumericTable(data[select,:])\n",
    "test_data = HomogenNumericTable(data[~select,:])\n",
    "\n",
    "print(train_data.getNumberOfRows())\n",
    "print(test_data.getNumberOfRows())"
   ]
  },
  {
   "cell_type": "markdown",
   "metadata": {
    "slideshow": {
     "slide_type": "slide"
    }
   },
   "source": [
    "# Data Normalization"
   ]
  },
  {
   "cell_type": "code",
   "execution_count": 17,
   "metadata": {
    "collapsed": false,
    "slideshow": {
     "slide_type": "fragment"
    }
   },
   "outputs": [],
   "source": [
    "dataSource2 = FileDataSource('housing-full.csv',\n",
    "                            DataSourceIface.doAllocateNumericTable,\n",
    "                            DataSourceIface.doDictionaryFromContext)\n",
    "dataSource2.loadDataBlock()\n",
    "\n",
    "data2 = dataSource2.getNumericTable()\n",
    "\n",
    "\n",
    "# Create an algorithm\n",
    "algorithm = zscore.Batch(method=zscore.sumDense)\n",
    "\n",
    "# Set an input object for the algorithm\n",
    "algorithm.input.set(zscore.data, data2)\n",
    "\n",
    "# Compute Z-score normalization function\n",
    "res = algorithm.compute()\n",
    "\n"
   ]
  },
  {
   "cell_type": "markdown",
   "metadata": {
    "slideshow": {
     "slide_type": "subslide"
    }
   },
   "source": [
    "# Data Normalization"
   ]
  },
  {
   "cell_type": "code",
   "execution_count": 18,
   "metadata": {
    "collapsed": false,
    "slideshow": {
     "slide_type": "fragment"
    }
   },
   "outputs": [
    {
     "name": "stdout",
     "output_type": "stream",
     "text": [
      "First 10 rows of the input data:\n",
      "42000.000 5850.000  3.000     1.000     2.000     \n",
      "38500.000 4000.000  2.000     1.000     1.000     \n",
      "49500.000 3060.000  3.000     1.000     1.000     \n",
      "60500.000 6650.000  3.000     1.000     2.000     \n",
      "61000.000 6360.000  2.000     1.000     1.000     \n",
      "66000.000 4160.000  3.000     1.000     1.000     \n",
      "66000.000 3880.000  3.000     2.000     2.000     \n",
      "69000.000 4160.000  3.000     1.000     3.000     \n",
      "83800.000 4800.000  3.000     1.000     1.000     \n",
      "88500.000 5500.000  3.000     2.000     4.000     \n",
      "\n",
      "First 10 rows of the z-score normalization result:\n",
      "-0.428    0.028     0.000     -0.000    0.000     \n",
      "-0.485    -0.045    -0.000    -0.000    -0.000    \n",
      "-0.305    -0.083    0.000     -0.000    -0.000    \n",
      "-0.125    0.059     0.000     -0.000    0.000     \n",
      "-0.117    0.048     -0.000    -0.000    -0.000    \n",
      "-0.035    -0.039    0.000     -0.000    -0.000    \n",
      "-0.035    -0.050    0.000     0.000     0.000     \n",
      "0.014     -0.039    0.000     -0.000    0.000     \n",
      "0.257     -0.014    0.000     -0.000    -0.000    \n",
      "0.334     0.014     0.000     0.000     0.000     \n",
      "\n"
     ]
    }
   ],
   "source": [
    "printNumericTable(data2, \"First 10 rows of the input data:\", 10)\n",
    "\n",
    "printNumericTable(res.get(zscore.normalizedData), \n",
    "                  \"First 10 rows of the z-score normalization result:\", 10)\n"
   ]
  },
  {
   "cell_type": "markdown",
   "metadata": {
    "slideshow": {
     "slide_type": "slide"
    }
   },
   "source": [
    "# Prediction"
   ]
  },
  {
   "cell_type": "markdown",
   "metadata": {
    "slideshow": {
     "slide_type": "subslide"
    }
   },
   "source": [
    "# Linear Regression\n",
    "\n",
    "* Tries to fit a linear function to the data;\n",
    "* Helps visualizing some data behaviours;\n",
    "\n",
    "<!--<center><img src=\"lm.png\" style=\"padding-top:30px;\"/></center>-->"
   ]
  },
  {
   "cell_type": "code",
   "execution_count": 19,
   "metadata": {
    "collapsed": false,
    "hideCode": true,
    "hidePrompt": true,
    "slideshow": {
     "slide_type": "-"
    }
   },
   "outputs": [
    {
     "data": {
      "image/png": "[encoded data removed]"
     },
     "metadata": {},
     "output_type": "display_data"
    }
   ],
   "source": [
    "%%R \n",
    "dataset <- read.csv('housing-train.csv')\n",
    "y <- dataset[,1]\n",
    "x <- dataset[,2]\n",
    "plot(x,y)\n",
    "abline(lm(y~x))"
   ]
  },
  {
   "cell_type": "markdown",
   "metadata": {
    "slideshow": {
     "slide_type": "subslide"
    }
   },
   "source": [
    "# Why use it?\n",
    "\n",
    "* Questions we may answer:\n",
    "    * Is there a relationship between house pricing and the house size?"
   ]
  },
  {
   "cell_type": "code",
   "execution_count": 20,
   "metadata": {
    "collapsed": false,
    "hideCode": true,
    "hidePrompt": true,
    "slideshow": {
     "slide_type": "fragment"
    }
   },
   "outputs": [
    {
     "data": {
      "image/png": "[encoded data removed]"
     },
     "metadata": {},
     "output_type": "display_data"
    }
   ],
   "source": [
    "%%R\n",
    "dataset <- read.csv('./housing-train.csv')\n",
    "p <- ggplot(dataset, aes(x=dataset[,2], y=dataset[,1])) +\n",
    "    geom_point(shape=1) + geom_smooth(method=lm, se=FALSE)\n",
    "print(p + xlab(\"Size\")+ylab(\"Price\"))"
   ]
  },
  {
   "cell_type": "markdown",
   "metadata": {
    "slideshow": {
     "slide_type": "subslide"
    }
   },
   "source": [
    "# Why use it?\n",
    "\n",
    "* Questions we may answer:\n",
    "    * Is there a relationship between house pricing and the number of bedrooms?"
   ]
  },
  {
   "cell_type": "code",
   "execution_count": 21,
   "metadata": {
    "collapsed": false,
    "hideCode": true,
    "hidePrompt": true,
    "slideshow": {
     "slide_type": "fragment"
    }
   },
   "outputs": [
    {
     "data": {
      "image/png": "[encoded data removed]"
     },
     "metadata": {},
     "output_type": "display_data"
    }
   ],
   "source": [
    "%%R\n",
    "dataset <- read.csv('./housing-train.csv')\n",
    "p <- ggplot(dataset, aes(x=dataset[,3], y=dataset[,1])) +\n",
    "    geom_point(shape=1) + geom_smooth(method=lm, se=FALSE)\n",
    "print(p + xlab(\"Bedrooms\")+ylab(\"Price\"))"
   ]
  },
  {
   "cell_type": "markdown",
   "metadata": {
    "slideshow": {
     "slide_type": "subslide"
    }
   },
   "source": [
    "# Regression Problems\n",
    "\n",
    "* Data set where a **right answer** is given as input to the problem\n",
    "    * **We know actual prices for houses**\n",
    "    * Learn what makes the price a certain value from the training data;\n",
    "    * More right answers based on new training data where we don't know the price already.\n",
    "* We also call this a regression problem\n",
    "    * Predict continuous valued output (price)\n",
    "    * No real discrete delineation "
   ]
  },
  {
   "cell_type": "markdown",
   "metadata": {
    "slideshow": {
     "slide_type": "subslide"
    }
   },
   "source": [
    "# The math behind it\n",
    "\n",
    "* Assume that there is a dependency between variables;\n",
    "    * More specifically, $y$ depends *linearly* on $x_1, x_2, x_3, ..., x_n$\n",
    "    * In most real world data, <font color='red'>regression is never Linear</font>;\n",
    "<!--<center><img src=\"lm2.png\" style=\"padding-top:30px;\"/></center> -->\n"
   ]
  },
  {
   "cell_type": "code",
   "execution_count": 22,
   "metadata": {
    "collapsed": false,
    "hideCode": true,
    "hidePrompt": true,
    "slideshow": {
     "slide_type": "fragment"
    }
   },
   "outputs": [
    {
     "data": {
      "image/png": "[encoded data removed]"
     },
     "metadata": {},
     "output_type": "display_data"
    }
   ],
   "source": [
    "%%R\n",
    "x <- 1:100\n",
    "y <- x*2\n",
    "plot(x,y)\n",
    "lines(y)\n",
    "z = y+(rnorm(length(y))*10)\n",
    "lines(z, col=\"red\")"
   ]
  },
  {
   "cell_type": "markdown",
   "metadata": {
    "slideshow": {
     "slide_type": "subslide"
    }
   },
   "source": [
    "# The math behind it\n",
    "\n",
    "* Given samples $(x_i,y_i)$ where $1 \\leq i \\leq n$\n",
    "    * Predict $y_{i+1}$ given the new information $x_{i+1}$\n",
    "* We assume that the dependent variable can be modeled with: $y = \\theta_0 + \\theta_1x +\\epsilon$ where\n",
    "    * $\\theta_0$ is the **intercept**\n",
    "    * $\\theta_1$ is the **slope**\n",
    "    * $\\epsilon$ is the **error**\n",
    "* Given some estimates $\\theta_0$ and $\\theta_1$ for the model coeficients, we predict the outcome value $\\hat{y}$  using: $\\hat{y} = \\theta_0+\\theta_1x$\n",
    "* The *ith* residual: $\\epsilon_i = y_i - \\hat{y}_i$\n",
    "* A hypothesis takes in some variable;\n",
    "* Uses parameters determined by a learning system\n",
    "* Outputs a prediction based on that input"
   ]
  },
  {
   "cell_type": "markdown",
   "metadata": {
    "slideshow": {
     "slide_type": "subslide"
    }
   },
   "source": [
    "# The math behind it\n",
    "\n",
    "* If $\\theta_1 \\geq 0$ then we get a positive slope;\n",
    "* If $\\theta_0 = 1.5$ and $\\theta_1 = 0$ then we get straight line parallel with axis X along 1.5;\n",
    "* The **squared error** is thus: $E=\\sum_{i=1}^{m}(y_i - \\hat{y}_i)^2$\n",
    "* We face a **Minimization Problem**"
   ]
  },
  {
   "cell_type": "markdown",
   "metadata": {
    "slideshow": {
     "slide_type": "subslide"
    }
   },
   "source": [
    "# The math behind it - Normal Equation\n",
    "\n",
    "* Derivate to get minimum, i.e., $\\frac{d}{d\\theta_1} = 0$ then solve for $\\theta_1$\n",
    "* Mean Squared Error: $E=\\sum_{i=1}^{m}(y_i - \\theta_1x_i)^2$\n",
    "    * Simplify $\\theta_0 = 0$<br />\n",
    "    <center>\n",
    "$\\frac{d}{d\\theta_1} = 0$ <br /><br />\n",
    "</center>\n",
    "<center>\n",
    "$-2\\sum_{i=1}^{m}x_i(y_i - \\theta_1x_i) = 0$<br /><br />\n",
    "</center>\n",
    "<center>\n",
    "$\\sum_{i=1}^{m}x_iy_i = \\theta_1\\sum_{i=1}^{m}x_i^2$<br /><br />\n",
    "</center>\n",
    "<center>\n",
    "$\\theta_1 = \\frac{\\sum_{i=1}^{m}x_iy_i}{\\sum_{i=1}^{m}x_i^2}$\n",
    "</center>"
   ]
  },
  {
   "cell_type": "markdown",
   "metadata": {
    "slideshow": {
     "slide_type": "subslide"
    }
   },
   "source": [
    "# The math behind it\n",
    "\n",
    "## Multiple Linear Regression\n",
    "\n",
    "* We assume that the future data can be modeled with the following: $\\hat{y} = \\theta_0 x_0 + \\theta_1 x_1 + \\theta_2 x_2 $ \n",
    "* Let's consider now that the $\\theta_0, \\theta_1, \\theta_2, ... \\theta_n$ is a vector\n",
    "* Also, the values of our features $x_1, x_2, x_3, ..., x_n$ are a vector and let's assume that $x_0=1$\n",
    "\n",
    "$$\n",
    "\\theta=\n",
    "\\begin{bmatrix}\n",
    "\\theta_0\\\\\n",
    "\\theta_1\\\\\n",
    "\\theta_2\\\\\n",
    "...\\\\\n",
    "\\theta_n\\\\\n",
    "\\end{bmatrix}\n",
    ",\\ X=\n",
    "\\begin{bmatrix}\n",
    "x_0\\\\\n",
    "x_1\\\\\n",
    "x_2\\\\\n",
    "...\\\\\n",
    "x_n\\\\\n",
    "\\end{bmatrix}\n",
    "$$"
   ]
  },
  {
   "cell_type": "markdown",
   "metadata": {
    "slideshow": {
     "slide_type": "subslide"
    }
   },
   "source": [
    "# The math behind it\n",
    "\n",
    "## Multiple Linear Regression (2)\n",
    "\n",
    "* Thus, in order to estimate $\\hat{y}$ in terms of $\\theta_0, \\theta_1, \\theta_2, ..., \\theta_n$ and $x_0, x_1, x_2, ..., x_n$ we get:<br /><br />\n",
    "$$\n",
    "\\hat{y} = \\theta_0x_0 + \\theta_1x_1+\\theta_2x_2+\\theta_3x_3+ ...+ \\theta_nx_n\n",
    "$$<br />\n",
    "then, using a vector product notation we get:<br /><br />\n",
    "$$\n",
    "\\theta^TX\n",
    "$$"
   ]
  },
  {
   "cell_type": "markdown",
   "metadata": {
    "slideshow": {
     "slide_type": "subslide"
    }
   },
   "source": [
    "# The math behind it\n",
    "\n",
    "## Multiple Linear Regression (3)\n",
    "\n",
    "* Our **error E** now is a function of the $\\theta_0, \\theta_1, ... \\theta_n$ variables: <br /><br />\n",
    "$$E(\\theta_0,\\theta_1,...\\theta_n) = \\sum_{i=1}^{m} (y_i - \\theta_0x_0 + \\theta_1x_1+...+ \\theta_nx_n)^2$$\n",
    "<br /><br />\n",
    "* In order to use the Normal Equation to solve for each $\\theta_i$ we have to take the partial derivatives $\\frac{\\partial}{\\partial \\theta_i}$"
   ]
  },
  {
   "cell_type": "markdown",
   "metadata": {
    "slideshow": {
     "slide_type": "subslide"
    }
   },
   "source": [
    "# Error estimation\n",
    "\n",
    "## Root Mean Square Error\n",
    "* Differences between values predicted and the values observed;\n",
    "* Same unit as the observation;<br /><br />\n",
    "$$\\sqrt{\\frac{\\sum_{i=1}^{m}(\\hat{y}_i - y_i)}{m}}$$"
   ]
  },
  {
   "cell_type": "markdown",
   "metadata": {
    "slideshow": {
     "slide_type": "subslide"
    }
   },
   "source": [
    "# Error estimation\n",
    "\n",
    "## $R^2$\n",
    "* Amount of variance explained by the model\n",
    "* Unitless;<br /><br />\n",
    "$$SS_{res} = \\sum_{i=1}^{m}(\\hat{y}_i - y_i)$$<br/><br />\n",
    "$$SS_{tot} = \\sum_{i=1}^{m}(y_i - \\bar{y})$$<br/><br />"
   ]
  },
  {
   "cell_type": "markdown",
   "metadata": {
    "slideshow": {
     "slide_type": "subslide"
    }
   },
   "source": [
    "# Error estimation\n",
    "\n",
    "## $R^2$\n",
    "$$R^2 = 1 - \\frac{SS_{res}}{SS_{tot}}$$"
   ]
  },
  {
   "cell_type": "markdown",
   "metadata": {
    "slideshow": {
     "slide_type": "subslide"
    }
   },
   "source": [
    "# Training the Model"
   ]
  },
  {
   "cell_type": "code",
   "execution_count": 23,
   "metadata": {
    "collapsed": false,
    "slideshow": {
     "slide_type": "fragment"
    }
   },
   "outputs": [
    {
     "name": "stdout",
     "output_type": "stream",
     "text": [
      "Linear Regression coefficients:\n",
      "-6356.393 6.127     2760.738  16551.026 7322.687  \n",
      "\n"
     ]
    }
   ],
   "source": [
    "algorithm = training.Batch_Float64NormEqDense()\n",
    "                                                                                                   \n",
    "algorithm.input.set(training.data, trainData)\n",
    "algorithm.input.set(training.dependentVariables, trainOutcome)\n",
    "                                     \n",
    "trainingResult = algorithm.compute()\n",
    "printNumericTable(trainingResult.get(training.model).getBeta(), \n",
    "                  \"Linear Regression coefficients:\")"
   ]
  },
  {
   "cell_type": "code",
   "execution_count": 24,
   "metadata": {
    "collapsed": false,
    "slideshow": {
     "slide_type": "skip"
    }
   },
   "outputs": [
    {
     "data": {
      "text/plain": [
       "[1] 0.5348178\n",
       "[1] 0.4893394\n",
       "[1] 0.8130583\n",
       "[1] 0.5418781\n",
       "[1] 16561.69\n"
      ]
     },
     "metadata": {},
     "output_type": "display_data"
    }
   ],
   "source": [
    "%%R\n",
    "dataset = read.csv(\"./housing-train.csv\")\n",
    "colnames(dataset) = c(\"price\", \"lotsize\", \"bedrooms\", \"bathrms\", \"stories\")\n",
    "\n",
    "dataset.test = read.csv(\"./housing-test.csv\")\n",
    "\n",
    "colnames(dataset.test) = c(\"price\", \"lotsize\", \"bedrooms\", \"bathrms\", \"stories\")\n",
    "\n",
    "model = lm(price ~ ., data=dataset)\n",
    "\n",
    "print(summary(model)$r.squared)\n",
    "\n",
    "result = predict(model, dataset.test[,2:5])\n",
    "\n",
    "price.mean = mean(dataset$price)\n",
    "\n",
    "ssreg = sum((result-price.mean)^2)\n",
    "\n",
    "sstot = sum((dataset.test$price-price.mean)^2)\n",
    "\n",
    "r.squared = cor(dataset.test$price, result)^2\n",
    "\n",
    "print(r.squared)\n",
    "\n",
    "print(ssreg/sstot)\n",
    "\n",
    "\n",
    "SS.test.total      <- sum((dataset.test$price - mean(dataset$price))^2)\n",
    "SS.test.residual   <- sum((dataset.test$price - result)^2)\n",
    "\n",
    "\n",
    "test.rsq <- 1 - SS.test.residual/SS.test.total  \n",
    "print(test.rsq)\n",
    "\n",
    "\n",
    "sqrt(sum((result - dataset.test$price)^2 , na.rm = TRUE ) / nrow(dataset.test) )\n",
    "\n"
   ]
  },
  {
   "cell_type": "markdown",
   "metadata": {
    "slideshow": {
     "slide_type": "subslide"
    }
   },
   "source": [
    "# The quality of the Model"
   ]
  },
  {
   "cell_type": "code",
   "execution_count": 25,
   "metadata": {
    "collapsed": false,
    "slideshow": {
     "slide_type": "fragment"
    }
   },
   "outputs": [
    {
     "name": "stdout",
     "output_type": "stream",
     "text": [
      "0.533399894442\n"
     ]
    }
   ],
   "source": [
    "algorithm = prediction.Batch()\n",
    "algorithm.input.setTable(prediction.data, trainData)\n",
    "algorithm.input.setModel(prediction.model, \n",
    "                         trainingResult.get(training.model))\n",
    "\n",
    "predictionResult = algorithm.compute()\n",
    "\n",
    "prediction_result = getNPArray(\n",
    "    predictionResult.get(prediction.prediction))\n",
    "real_values = getNPArray(trainOutcome)\n",
    "\n",
    "real_values_mean = np.sum(real_values)/len(real_values)\n",
    "ssreg = np.sum((prediction_result-real_values_mean)**2)\n",
    "sstot = np.sum((real_values - real_values_mean)**2)\n",
    "r_squared = ssreg / sstot\n",
    "\n",
    "print(r_squared)"
   ]
  },
  {
   "cell_type": "markdown",
   "metadata": {
    "slideshow": {
     "slide_type": "subslide"
    }
   },
   "source": [
    "# Testing your model"
   ]
  },
  {
   "cell_type": "code",
   "execution_count": 26,
   "metadata": {
    "collapsed": false,
    "slideshow": {
     "slide_type": "fragment"
    }
   },
   "outputs": [
    {
     "name": "stdout",
     "output_type": "stream",
     "text": [
      "Testing points read: 111\n"
     ]
    }
   ],
   "source": [
    "testDatasetFileName = './housing-test.csv'\n",
    "\n",
    "testDataSource = FileDataSource(testDatasetFileName, \n",
    "                            DataSourceIface.notAllocateNumericTable,\n",
    "                            DataSourceIface.doDictionaryFromContext)\n",
    "\n",
    "testData = HomogenNumericTable(nFeatures, 0, \n",
    "                               NumericTableIface.notAllocate)\n",
    "\n",
    "testGroundTruth = HomogenNumericTable(nOutcomes, 0, \n",
    "                                      NumericTableIface.notAllocate)\n",
    "\n",
    "mergedData = MergedNumericTable(testGroundTruth,testData)\n",
    "\n",
    "nObservations = testDataSource.loadDataBlock(mergedData)\n",
    "\n",
    "print(\"Testing points read: {}\".format(nObservations))\n",
    "\n",
    "algorithm = prediction.Batch()\n",
    "\n",
    "algorithm.input.setTable(prediction.data, testData)\n",
    "algorithm.input.setModel(prediction.model, \n",
    "                         trainingResult.get(training.model))\n",
    "\n",
    "predictionResult = algorithm.compute()"
   ]
  },
  {
   "cell_type": "markdown",
   "metadata": {
    "slideshow": {
     "slide_type": "subslide"
    }
   },
   "source": [
    "# Testing your Model"
   ]
  },
  {
   "cell_type": "code",
   "execution_count": 27,
   "metadata": {
    "collapsed": false,
    "slideshow": {
     "slide_type": "fragment"
    }
   },
   "outputs": [
    {
     "name": "stdout",
     "output_type": "stream",
     "text": [
      "Linear Regression prediction results: (first 10 rows):\n",
      "77584.291 \n",
      "97463.689 \n",
      "54689.190 \n",
      "65962.833 \n",
      "75165.556 \n",
      "47366.503 \n",
      "55175.751 \n",
      "47366.503 \n",
      "62841.671 \n",
      "65407.807 \n",
      "\n",
      "Ground truth (first 10 rows):\n",
      "75000.000 \n",
      "132000.000\n",
      "60000.000 \n",
      "65000.000 \n",
      "69000.000 \n",
      "51900.000 \n",
      "57000.000 \n",
      "65000.000 \n",
      "79500.000 \n",
      "72500.000 \n",
      "\n"
     ]
    }
   ],
   "source": [
    "printNumericTable(predictionResult.get(prediction.prediction), \n",
    "          \"Linear Regression prediction results: (first 10 rows):\", 10)\n",
    "printNumericTable(testGroundTruth, \"Ground truth (first 10 rows):\", 10)"
   ]
  },
  {
   "cell_type": "markdown",
   "metadata": {
    "slideshow": {
     "slide_type": "subslide"
    }
   },
   "source": [
    "# Testing your Model\n",
    "\n",
    "## Error Measures:\n",
    "\n",
    "### $R^2$\n"
   ]
  },
  {
   "cell_type": "code",
   "execution_count": 28,
   "metadata": {
    "collapsed": false,
    "slideshow": {
     "slide_type": "fragment"
    }
   },
   "outputs": [
    {
     "name": "stdout",
     "output_type": "stream",
     "text": [
      "0.54\n"
     ]
    }
   ],
   "source": [
    "prediction_result = getNPArray(\n",
    "    predictionResult.get(prediction.prediction))\n",
    "real_values = getNPArray(testGroundTruth)\n",
    "\n",
    "training_data_outcome = getNPArray(trainOutcome)\n",
    "\n",
    "values_mean = np.sum(training_data_outcome)/len(training_data_outcome)\n",
    "\n",
    "ssres = np.sum((real_values - prediction_result)**2)\n",
    "sstot = np.sum((real_values - values_mean)**2)\n",
    "\n",
    "r_squared = 1 - ssres / sstot\n",
    "\n",
    "print(\"{0:.2f}\".format(r_squared))"
   ]
  },
  {
   "cell_type": "markdown",
   "metadata": {
    "slideshow": {
     "slide_type": "subslide"
    }
   },
   "source": [
    "# Testing your Model\n",
    "\n",
    "## Error Measures:\n",
    "\n",
    "### $RMSE$\n"
   ]
  },
  {
   "cell_type": "code",
   "execution_count": 29,
   "metadata": {
    "collapsed": false,
    "slideshow": {
     "slide_type": "fragment"
    }
   },
   "outputs": [
    {
     "name": "stdout",
     "output_type": "stream",
     "text": [
      "16480.70\n"
     ]
    }
   ],
   "source": [
    "prediction_result = getNPArray(\n",
    "    predictionResult.get(prediction.prediction))\n",
    "real_values = getNPArray(testGroundTruth)\n",
    "\n",
    "rmse = math.sqrt(\n",
    "    np.sum((prediction_result-real_values)**2)/len(real_values))\n",
    "\n",
    "print(\"{0:.2f}\".format(rmse))"
   ]
  },
  {
   "cell_type": "markdown",
   "metadata": {
    "slideshow": {
     "slide_type": "slide"
    }
   },
   "source": [
    "# Why Use it?\n",
    "\n",
    "* Modes: \n",
    "    * **Batch**: the only compute method of a particular algorithm class is used; \n",
    "    * **Online**: this computation mode assumes that the data arrives in blocks;\n",
    "        * `compute()` method each time new input becomes available.\n",
    "        * When the last block of data arrives, call the `finalizeCompute()` method to produce final results;"
   ]
  },
  {
   "cell_type": "markdown",
   "metadata": {
    "slideshow": {
     "slide_type": "subslide"
    }
   },
   "source": [
    "# Why Use it?\n",
    "* Modes:\n",
    "    * **Distributed**: data sets distributed across several devices;\n",
    "        * Assumes that the data set is split in *nblocks* blocks across computation nodes.\n",
    "        * define the computation step for an algorithm; "
   ]
  },
  {
   "cell_type": "markdown",
   "metadata": {
    "slideshow": {
     "slide_type": "subslide"
    }
   },
   "source": [
    "# Why Use it? Distributed!\n",
    "\n",
    "* Provide the `computeStep` value to the constructor during initialization of the algorithm;\n",
    "* Use the `compute()` method on each computation node (partial results)\n",
    "* Provide the computeStep value to the constructor during initialization of the algorithm;\n",
    "* Use the `compute()` method on each computation node (partial results)"
   ]
  },
  {
   "cell_type": "markdown",
   "metadata": {
    "slideshow": {
     "slide_type": "slide"
    }
   },
   "source": [
    "# Distributed processing\n",
    "\n",
    "<center><img src=\"distributed.png\" style=\"padding-top:40px; height:650px;\"/></center>"
   ]
  },
  {
   "cell_type": "markdown",
   "metadata": {
    "slideshow": {
     "slide_type": "subslide"
    }
   },
   "source": [
    "# Distributed processing\n",
    "\n",
    "<center><img src=\"distributed2.png\" style=\"padding-top:40px; height:650px;\"/></center>"
   ]
  },
  {
   "cell_type": "markdown",
   "metadata": {
    "slideshow": {
     "slide_type": "subslide"
    }
   },
   "source": [
    "# Multiple inputs - splitting"
   ]
  },
  {
   "cell_type": "code",
   "execution_count": 42,
   "metadata": {
    "collapsed": false,
    "slideshow": {
     "slide_type": "-"
    }
   },
   "outputs": [
    {
     "name": "stdout",
     "output_type": "stream",
     "text": [
      "Observations read on file 1: 215\n",
      "Observations read on file 2: 220\n"
     ]
    }
   ],
   "source": [
    "nBlocks = 2\n",
    "nFeatures = 4\n",
    "nOutcomes = 1\n",
    "trainDatasetFileNames = ['./housing-distributed-train1.csv', \n",
    "                         './housing-distributed-train2.csv']\n",
    "masterAlgorithm = training.Distributed(step2Master)\n",
    "for i in range(nBlocks):\n",
    "    trainDataSource = FileDataSource(trainDatasetFileNames[i], \n",
    "                               DataSourceIface.notAllocateNumericTable,\n",
    "                               DataSourceIface.doDictionaryFromContext)\n",
    "    trainData = HomogenNumericTable(nFeatures, 0, \n",
    "                                    NumericTableIface.notAllocate)\n",
    "    trainOutcome = HomogenNumericTable(nOutcomes, 0, \n",
    "                                       NumericTableIface.notAllocate)\n",
    "    mergedData = MergedNumericTable(trainOutcome, trainData)\n",
    "    nObservations = trainDataSource.loadDataBlock(mergedData)\n",
    "    print(\"Observations read on file {}: {}\".format((i+1), \n",
    "                                                    nObservations))\n",
    "    localAlgorithm = training.Distributed(step1Local)\n",
    "    localAlgorithm.input.set(training.data, trainData)    \n",
    "    localAlgorithm.input.set(training.dependentVariables, \n",
    "                             trainOutcome)\n",
    "    partialResult = localAlgorithm.compute()\n",
    "    masterAlgorithm.input.add(training.partialModels, \n",
    "                              partialResult)"
   ]
  },
  {
   "cell_type": "markdown",
   "metadata": {
    "slideshow": {
     "slide_type": "subslide"
    }
   },
   "source": [
    "# Multiple input - merging results"
   ]
  },
  {
   "cell_type": "code",
   "execution_count": 43,
   "metadata": {
    "collapsed": false,
    "slideshow": {
     "slide_type": "-"
    }
   },
   "outputs": [
    {
     "name": "stdout",
     "output_type": "stream",
     "text": [
      "Linear Regression coefficients:\n",
      "-6356.393 6.127     2760.738  16551.026 7322.687  \n",
      "\n"
     ]
    }
   ],
   "source": [
    "masterAlgorithm.compute()\n",
    "\n",
    "trainingResult = masterAlgorithm.finalizeCompute()\n",
    "printNumericTable(trainingResult.get(training.model).getBeta(), \n",
    "                  \"Linear Regression coefficients:\")"
   ]
  },
  {
   "cell_type": "markdown",
   "metadata": {
    "slideshow": {
     "slide_type": "subslide"
    }
   },
   "source": [
    "# Testing your model"
   ]
  },
  {
   "cell_type": "code",
   "execution_count": 44,
   "metadata": {
    "collapsed": false,
    "slideshow": {
     "slide_type": "-"
    }
   },
   "outputs": [],
   "source": [
    "testDatasetFileName = './housing-test.csv'\n",
    "\n",
    "testDataSource = FileDataSource(\n",
    "    testDatasetFileName, DataSourceIface.doAllocateNumericTable,\n",
    "    DataSourceIface.doDictionaryFromContext\n",
    ")\n",
    "\n",
    "testData = HomogenNumericTable(nFeatures, 0, \n",
    "                               NumericTableIface.notAllocate)\n",
    "testGroundTruth = HomogenNumericTable(nOutcomes, 0, \n",
    "                                      NumericTableIface.notAllocate)\n",
    "mergedData = MergedNumericTable(testGroundTruth,testData)\n",
    "\n",
    "testDataSource.loadDataBlock(mergedData)\n",
    "\n",
    "algorithm = prediction.Batch()\n",
    "\n",
    "algorithm.input.setTable(prediction.data, testData)\n",
    "algorithm.input.setModel(prediction.model, \n",
    "                         trainingResult.get(training.model))\n",
    "\n",
    "predictionResult = algorithm.compute()"
   ]
  },
  {
   "cell_type": "markdown",
   "metadata": {
    "slideshow": {
     "slide_type": "subslide"
    }
   },
   "source": [
    "# Testing your model"
   ]
  },
  {
   "cell_type": "code",
   "execution_count": 45,
   "metadata": {
    "collapsed": false,
    "slideshow": {
     "slide_type": "-"
    }
   },
   "outputs": [
    {
     "name": "stdout",
     "output_type": "stream",
     "text": [
      "Linear Regression prediction results: (first 10 rows):\n",
      "77584.291 \n",
      "97463.689 \n",
      "54689.190 \n",
      "65962.833 \n",
      "75165.556 \n",
      "47366.503 \n",
      "55175.751 \n",
      "47366.503 \n",
      "62841.671 \n",
      "65407.807 \n",
      "\n",
      "Ground truth (first 10 rows):\n",
      "75000.000 \n",
      "132000.000\n",
      "60000.000 \n",
      "65000.000 \n",
      "69000.000 \n",
      "51900.000 \n",
      "57000.000 \n",
      "65000.000 \n",
      "79500.000 \n",
      "72500.000 \n",
      "\n"
     ]
    }
   ],
   "source": [
    "printNumericTable(predictionResult.get(prediction.prediction), \n",
    "          \"Linear Regression prediction results: (first 10 rows):\", 10)\n",
    "printNumericTable(testGroundTruth, \"Ground truth (first 10 rows):\", 10)"
   ]
  },
  {
   "cell_type": "markdown",
   "metadata": {
    "slideshow": {
     "slide_type": "slide"
    }
   },
   "source": [
    "\n",
    "# What is included?\n",
    "\n",
    "* Algorithms for:\n",
    "    * **Pre-processing**, **Transformation**, **Analysis**, **Modeling**.\n",
    "\n",
    "<center><img src=\"intel-daal-all-data-analysis-stages.png\"/></center>"
   ]
  },
  {
   "cell_type": "markdown",
   "metadata": {
    "slideshow": {
     "slide_type": "subslide"
    }
   },
   "source": [
    "\n",
    "# What about Spark?\n",
    "\n",
    "* Almost the same set of Algorithms.\n",
    "\n",
    "<center><img src=\"daal_vs_spark.png\"/></center>"
   ]
  },
  {
   "cell_type": "markdown",
   "metadata": {
    "slideshow": {
     "slide_type": "slide"
    }
   },
   "source": [
    "# Any questions?"
   ]
  }
 ],
 "metadata": {
  "celltoolbar": "Slideshow",
  "kernelspec": {
   "display_name": "Python 3",
   "language": "python",
   "name": "python3"
  },
  "language_info": {
   "codemirror_mode": {
    "name": "ipython",
    "version": 3
   },
   "file_extension": ".py",
   "mimetype": "text/x-python",
   "name": "python",
   "nbconvert_exporter": "python",
   "pygments_lexer": "ipython3",
   "version": "3.5.1"
  }
 },
 "nbformat": 4,
 "nbformat_minor": 0
}
