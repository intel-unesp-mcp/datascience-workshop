{
 "cells": [
  {
   "cell_type": "code",
   "execution_count": 4,
   "metadata": {
    "collapsed": false,
    "slideshow": {
     "slide_type": "skip"
    }
   },
   "outputs": [],
   "source": [
    "%load_ext rpy2.ipython"
   ]
  },
  {
   "cell_type": "code",
   "execution_count": 6,
   "metadata": {
    "collapsed": false,
    "hideCode": false,
    "hideOutput": true,
    "hidePrompt": true,
    "slideshow": {
     "slide_type": "skip"
    }
   },
   "outputs": [
    {
     "data": {
      "text/plain": [
       "array([1], dtype=int32)"
      ]
     },
     "execution_count": 6,
     "metadata": {},
     "output_type": "execute_result"
    }
   ],
   "source": [
    "%R require(ggplot2)"
   ]
  },
  {
   "cell_type": "code",
   "execution_count": 3,
   "metadata": {
    "collapsed": false,
    "slideshow": {
     "slide_type": "skip"
    }
   },
   "outputs": [],
   "source": [
    "from daal.data_management import AOSNumericTable\n",
    "from daal.data_management import SOANumericTable\n",
    "from daal.data_management import BlockDescriptor_Intc\n",
    "from daal.data_management import BlockDescriptor\n",
    "from daal.data_management import BlockDescriptor_Float64\n",
    "from daal.data_management import readOnly\n",
    "from daal.data_management import readWrite\n",
    "from daal.data_management import data_feature_utils\n",
    "from daal.data_management import HomogenNumericTable\n",
    "from daal.data_management import NumericTableIface\n",
    "from daal.data_management import MergedNumericTable\n",
    "from daal.data_management import FileDataSource\n",
    "from daal.data_management import StringDataSource\n",
    "from daal.data_management import DataSourceIface\n",
    "from daal.data_management import packed_mask\n",
    "\n",
    "from daal.algorithms.linear_regression import training\n",
    "from daal.algorithms.linear_regression import prediction\n",
    "\n",
    "import daal.algorithms.normalization.zscore as zscore\n",
    "\n",
    "from daal import step1Local\n",
    "from daal import step2Master\n",
    "\n",
    "\n",
    "import numpy as np\n",
    "\n",
    "import math"
   ]
  },
  {
   "cell_type": "code",
   "execution_count": 40,
   "metadata": {
    "collapsed": false,
    "slideshow": {
     "slide_type": "skip"
    }
   },
   "outputs": [],
   "source": [
    "def printNumericTable(data_table, message='', num_printed_rows=0, num_printed_cols=0,\n",
    "                      interval=10):\n",
    "    num_rows = data_table.getNumberOfRows()\n",
    "    num_cols = data_table.getNumberOfColumns()\n",
    "    layout = data_table.getDataLayout()\n",
    "\n",
    "    if num_printed_rows != 0:\n",
    "        num_printed_rows = min(num_rows, num_printed_rows)\n",
    "    else:\n",
    "        num_printed_rows = num_rows\n",
    "\n",
    "    if num_printed_cols != 0:\n",
    "        num_printed_cols = min(num_cols, num_printed_cols)\n",
    "    else:\n",
    "        num_printed_cols = num_cols\n",
    "\n",
    "    block = BlockDescriptor()\n",
    "    if isFull(layout) or layout == NumericTableIface.csrArray:\n",
    "        data_table.getBlockOfRows(0, num_rows, readOnly, block)\n",
    "        printArray(block.getArray(), num_printed_cols, num_printed_rows,\n",
    "                   num_cols, message, interval)\n",
    "        data_table.releaseBlockOfRows(block)\n",
    "    else:\n",
    "        packed_table = data_table.getBlockOfRowsAsDouble(0, num_rows)\n",
    "        if isLower(layout):\n",
    "            printLowerArray(packed_table, num_printed_rows, message, interval)\n",
    "        elif isUpper(layout):\n",
    "            printUpperArray(packed_table, num_printed_cols, num_printed_rows,\n",
    "                            num_cols, message, interval)\n",
    "        \n",
    "def isFull(layout):\n",
    "    layout_int = int(layout)\n",
    "    if packed_mask & layout_int:\n",
    "        return False\n",
    "    return True\n",
    "\n",
    "\n",
    "def printArray(array, num_printed_cols, num_printed_rows, num_cols, message,\n",
    "               interval=10, flt64=True):\n",
    "    print(message)\n",
    "    flat_array = array.flatten()\n",
    "    decimals = '3' if flt64 else '0'\n",
    "    for i in range(num_printed_rows):\n",
    "        for j in range(num_printed_cols):\n",
    "            print(\"{:<{width}.{dec}f}\".format(\n",
    "                flat_array[i * num_cols + j], width=interval, dec=decimals), end=''\n",
    "            )\n",
    "        print()\n",
    "    print()\n",
    "\n",
    "    \n",
    "def getNPArray(data_table):\n",
    "    num_rows = data_table.getNumberOfRows()\n",
    "    num_cols = data_table.getNumberOfColumns()\n",
    "    layout = data_table.getDataLayout()\n",
    "    np_array = np.ones((num_rows, num_cols), dtype=np.int)\n",
    "    block = BlockDescriptor()\n",
    "    data_table.getBlockOfRows(0, num_rows, readOnly, block)\n",
    "    np_array = block.getArray()\n",
    "    data_table.releaseBlockOfRows(block)\n",
    "    return np_array"
   ]
  },
  {
   "cell_type": "markdown",
   "metadata": {
    "slideshow": {
     "slide_type": "slide"
    }
   },
   "source": [
    "</div>\n",
    "    <h1>Introduction to Data Science</h1>\n",
    "    <h3>Raphael Mendes de Oliveira Cóbe</h3>\n",
    "    <p>rmcobe@ncc.unesp.br</p>\n",
    "    <p>Source available on <a href=\"https://github.com/raphaelmcobe/intel-datascience-workshop\">Github</a>\n",
    "\n",
    "</div>\n",
    "<div style=\"width:80%; margin-left:auto; margin-right:auto;\">\n",
    "    <img src=intel_logo.png style=\"height:170px; float:left;\"/>\n",
    "    <img src=ncc_logo.png style=\"height:170px; float:right;\"/></div>\n",
    "<div>"
   ]
  },
  {
   "cell_type": "markdown",
   "metadata": {
    "slideshow": {
     "slide_type": "subslide"
    }
   },
   "source": [
    "# NCC/Unesp\n",
    "\n",
    "* GridUnesp\n",
    "    * 256 WorkerNodes\n",
    "    * Soon to be ~ 85 Tflops\n",
    "    * Around **70 Projects** from several aereas: Physics, Biology, Chemistry, and so on...\n",
    "        * Over **300 users**.\n",
    "    \n",
    "* Sprace\n",
    "    * Tier-2 Cern\n",
    "    * 1PB Raw Data"
   ]
  },
  {
   "cell_type": "markdown",
   "metadata": {
    "slideshow": {
     "slide_type": "slide"
    }
   },
   "source": [
    "# Data Science\n",
    "\n",
    "* Recently open field that put together lots of concepts of other fields, such as:\n",
    "  * Getting Data (**Open Data!**);\n",
    "  * Data Analysis;\n",
    "  * Data Visualization;\n",
    "  * Data Modelling;\n",
    "  * **Prediction**;\n",
    "  * Big Data"
   ]
  },
  {
   "cell_type": "markdown",
   "metadata": {
    "slideshow": {
     "slide_type": "slide"
    }
   },
   "source": [
    "# Data Sampling\n",
    "\n",
    "* With or without Replacement.\n",
    "* Random, Stratified\n",
    "* Datasets way too big to fit in memory!"
   ]
  },
  {
   "cell_type": "markdown",
   "metadata": {
    "slideshow": {
     "slide_type": "slide"
    }
   },
   "source": [
    "# Data Normalization"
   ]
  },
  {
   "cell_type": "markdown",
   "metadata": {
    "slideshow": {
     "slide_type": "subslide"
    }
   },
   "source": [
    "# Data Normalization\n",
    "\n",
    "* adjusting values measured on different scales to a notionally **common scale**\n",
    "* Outliers detection;\n",
    "* Z-score, feature scaling, standard score;"
   ]
  },
  {
   "cell_type": "markdown",
   "metadata": {
    "slideshow": {
     "slide_type": "slide"
    }
   },
   "source": [
    "# Prediction"
   ]
  },
  {
   "cell_type": "markdown",
   "metadata": {
    "slideshow": {
     "slide_type": "subslide"
    }
   },
   "source": [
    "# Linear Regression\n",
    "\n",
    "* Tries to fit a linear function to the data;\n",
    "* Helps visualizing some data behaviours;\n",
    "\n",
    "<!--<center><img src=\"lm.png\" style=\"padding-top:30px;\"/></center>-->"
   ]
  },
  {
   "cell_type": "code",
   "execution_count": 15,
   "metadata": {
    "collapsed": false,
    "hideCode": true,
    "hidePrompt": true,
    "slideshow": {
     "slide_type": "subslide"
    }
   },
   "outputs": [
    {
     "data": {
      "image/png": "[encoded data removed]"
     },
     "metadata": {},
     "output_type": "display_data"
    }
   ],
   "source": [
    "%%R \n",
    "dataset <- read.csv('housing-train.csv')\n",
    "y <- dataset[,1]\n",
    "x <- dataset[,2]\n",
    "plot(x,y)\n",
    "abline(lm(y~x))"
   ]
  },
  {
   "cell_type": "markdown",
   "metadata": {
    "slideshow": {
     "slide_type": "subslide"
    }
   },
   "source": [
    "# Why use it?\n",
    "\n",
    "* Questions we may answer:\n",
    "    * Is there a relationship between house pricing and the house size?"
   ]
  },
  {
   "cell_type": "code",
   "execution_count": 20,
   "metadata": {
    "collapsed": false,
    "hideCode": true,
    "hidePrompt": true,
    "slideshow": {
     "slide_type": "fragment"
    }
   },
   "outputs": [
    {
     "data": {
      "image/png": "[encoded data removed]"
     },
     "metadata": {},
     "output_type": "display_data"
    }
   ],
   "source": [
    "%%R\n",
    "dataset <- read.csv('./housing-train.csv')\n",
    "p <- ggplot(dataset, aes(x=dataset[,2], y=dataset[,1])) +\n",
    "    geom_point(shape=1) + geom_smooth(method=lm, se=FALSE)\n",
    "print(p + xlab(\"Size\")+ylab(\"Price\"))"
   ]
  },
  {
   "cell_type": "markdown",
   "metadata": {
    "slideshow": {
     "slide_type": "subslide"
    }
   },
   "source": [
    "# Why use it?\n",
    "\n",
    "* Questions we may answer:\n",
    "    * Is there a relationship between house pricing and the number of bedrooms?"
   ]
  },
  {
   "cell_type": "code",
   "execution_count": 21,
   "metadata": {
    "collapsed": false,
    "hideCode": true,
    "hidePrompt": true,
    "slideshow": {
     "slide_type": "fragment"
    }
   },
   "outputs": [
    {
     "data": {
      "image/png": "[encoded data removed]"
     },
     "metadata": {},
     "output_type": "display_data"
    }
   ],
   "source": [
    "%%R\n",
    "dataset <- read.csv('./housing-train.csv')\n",
    "p <- ggplot(dataset, aes(x=dataset[,3], y=dataset[,1])) +\n",
    "    geom_point(shape=1) + geom_smooth(method=lm, se=FALSE)\n",
    "print(p + xlab(\"Bedrooms\")+ylab(\"Price\"))"
   ]
  },
  {
   "cell_type": "markdown",
   "metadata": {
    "slideshow": {
     "slide_type": "subslide"
    }
   },
   "source": [
    "# Regression Problems\n",
    "\n",
    "* Data set where a **right answer** is given as input to the problem\n",
    "    * **We know actual prices for houses**\n",
    "    * Learn what makes the price a certain value from the training data;\n",
    "    * More right answers based on new training data where we don't know the price already.\n",
    "* We also call this a regression problem\n",
    "    * Predict continuous valued output (price)\n",
    "    * No real discrete delineation "
   ]
  },
  {
   "cell_type": "markdown",
   "metadata": {
    "slideshow": {
     "slide_type": "subslide"
    }
   },
   "source": [
    "# The math behind it\n",
    "\n",
    "* Assume that there is a dependency between variables;\n",
    "    * More specifically, $y$ depends *linearly* on $x_1, x_2, x_3, ..., x_n$\n",
    "    * In most real world data, <font color='red'>regression is never Linear</font>;\n",
    "<!--<center><img src=\"lm2.png\" style=\"padding-top:30px;\"/></center> -->\n"
   ]
  },
  {
   "cell_type": "code",
   "execution_count": 39,
   "metadata": {
    "collapsed": false,
    "hideCode": true,
    "hidePrompt": true,
    "slideshow": {
     "slide_type": "fragment"
    }
   },
   "outputs": [
    {
     "data": {
      "image/png": "[encoded data removed]"
     },
     "metadata": {},
     "output_type": "display_data"
    }
   ],
   "source": [
    "%%R\n",
    "x <- seq(1, 100, by=4)\n",
    "y <- x*2\n",
    "plot(x,y, type=\"l\", col=\"blue\")\n",
    "z = y+(rnorm(length(y))*20)\n",
    "points(x,z, col=\"red\")"
   ]
  },
  {
   "cell_type": "markdown",
   "metadata": {
    "slideshow": {
     "slide_type": "subslide"
    }
   },
   "source": [
    "# The math behind it\n",
    "\n",
    "* Given samples $(x_i,y_i)$ where $1 \\leq i \\leq n$\n",
    "    * Predict $y_{i+1}$ given the new information $x_{i+1}$\n",
    "* We assume that the dependent variable can be modeled with: $y = \\theta_0 + \\theta_1x +\\epsilon$ where\n",
    "    * $\\theta_0$ is the **intercept**\n",
    "    * $\\theta_1$ is the **slope**\n",
    "    * $\\epsilon$ is the **error**\n",
    "* Given some estimates $\\theta_0$ and $\\theta_1$ for the model coeficients, we predict the outcome value $\\hat{y}$  using: $\\hat{y} = \\theta_0+\\theta_1x$\n",
    "* The *ith* residual: $\\epsilon_i = y_i - \\hat{y}_i$\n",
    "* A hypothesis takes in some variable;\n",
    "* Uses parameters determined by a learning system\n",
    "* Outputs a prediction based on that input"
   ]
  },
  {
   "cell_type": "markdown",
   "metadata": {
    "slideshow": {
     "slide_type": "subslide"
    }
   },
   "source": [
    "# The math behind it\n",
    "\n",
    "* If $\\theta_1 \\geq 0$ then we get a positive slope;\n",
    "* If $\\theta_0 = 1.5$ and $\\theta_1 = 0$ then we get straight line parallel with axis X along 1.5;\n",
    "* The **squared error** is thus: $E=\\sum_{i=1}^{m}(y_i - \\hat{y}_i)^2$\n",
    "* We face a **Minimization Problem**"
   ]
  },
  {
   "cell_type": "markdown",
   "metadata": {
    "slideshow": {
     "slide_type": "subslide"
    }
   },
   "source": [
    "# The math behind it - Normal Equation\n",
    "\n",
    "* Derivate to get minimum, i.e., $\\frac{d}{d\\theta_1} = 0$ then solve for $\\theta_1$\n",
    "* Mean Squared Error: $E=\\sum_{i=1}^{m}(y_i - \\theta_1x_i)^2$\n",
    "    * Simplify $\\theta_0 = 0$<br />\n",
    "    <center>\n",
    "$\\frac{d}{d\\theta_1} = 0$ <br /><br />\n",
    "</center>\n",
    "<center>\n",
    "$-2\\sum_{i=1}^{m}x_i(y_i - \\theta_1x_i) = 0$<br /><br />\n",
    "</center>\n",
    "<center>\n",
    "$\\sum_{i=1}^{m}x_iy_i = \\theta_1\\sum_{i=1}^{m}x_i^2$<br /><br />\n",
    "</center>\n",
    "<center>\n",
    "$\\theta_1 = \\frac{\\sum_{i=1}^{m}x_iy_i}{\\sum_{i=1}^{m}x_i^2}$\n",
    "</center>"
   ]
  },
  {
   "cell_type": "markdown",
   "metadata": {
    "slideshow": {
     "slide_type": "subslide"
    }
   },
   "source": [
    "# The math behind it\n",
    "\n",
    "## Multiple Linear Regression\n",
    "\n",
    "* We assume that the future data can be modeled with the following: $\\hat{y} = \\theta_0 x_0 + \\theta_1 x_1 + \\theta_2 x_2 $ \n",
    "* Let's consider now that the $\\theta_0, \\theta_1, \\theta_2, ... \\theta_n$ is a vector\n",
    "* Also, the values of our features $x_1, x_2, x_3, ..., x_n$ are a vector and let's assume that $x_0=1$\n",
    "\n",
    "$$\n",
    "\\theta=\n",
    "\\begin{bmatrix}\n",
    "\\theta_0\\\\\n",
    "\\theta_1\\\\\n",
    "\\theta_2\\\\\n",
    "...\\\\\n",
    "\\theta_n\\\\\n",
    "\\end{bmatrix}\n",
    ",\\ X=\n",
    "\\begin{bmatrix}\n",
    "x_0\\\\\n",
    "x_1\\\\\n",
    "x_2\\\\\n",
    "...\\\\\n",
    "x_n\\\\\n",
    "\\end{bmatrix}\n",
    "$$"
   ]
  },
  {
   "cell_type": "markdown",
   "metadata": {
    "slideshow": {
     "slide_type": "subslide"
    }
   },
   "source": [
    "# The math behind it\n",
    "\n",
    "## Multiple Linear Regression (2)\n",
    "\n",
    "* Thus, in order to estimate $\\hat{y}$ in terms of $\\theta_0, \\theta_1, \\theta_2, ..., \\theta_n$ and $x_0, x_1, x_2, ..., x_n$ we get:<br /><br />\n",
    "$$\n",
    "\\hat{y} = \\theta_0x_0 + \\theta_1x_1+\\theta_2x_2+\\theta_3x_3+ ...+ \\theta_nx_n\n",
    "$$<br />\n",
    "then, using a vector product notation we get:<br /><br />\n",
    "$$\n",
    "\\theta^TX\n",
    "$$"
   ]
  },
  {
   "cell_type": "markdown",
   "metadata": {
    "slideshow": {
     "slide_type": "subslide"
    }
   },
   "source": [
    "# The math behind it\n",
    "\n",
    "## Multiple Linear Regression (3)\n",
    "\n",
    "* Our **error E** now is a function of the $\\theta_0, \\theta_1, ... \\theta_n$ variables: <br /><br />\n",
    "$$E(\\theta_0,\\theta_1,...\\theta_n) = \\sum_{i=1}^{m} (y_i - \\theta_0x_0 + \\theta_1x_1+...+ \\theta_nx_n)^2$$\n",
    "<br /><br />\n",
    "* In order to use the Normal Equation to solve for each $\\theta_i$ we have to take the partial derivatives $\\frac{\\partial}{\\partial \\theta_i}$"
   ]
  },
  {
   "cell_type": "markdown",
   "metadata": {
    "slideshow": {
     "slide_type": "subslide"
    }
   },
   "source": [
    "# Error estimation\n",
    "\n",
    "## Root Mean Square Error\n",
    "* Differences between values predicted and the values observed;\n",
    "* Same unit as the observation;<br /><br />\n",
    "$$\\sqrt{\\frac{\\sum_{i=1}^{m}(\\hat{y}_i - y_i)}{m}}$$"
   ]
  },
  {
   "cell_type": "markdown",
   "metadata": {
    "slideshow": {
     "slide_type": "subslide"
    }
   },
   "source": [
    "# Error estimation\n",
    "\n",
    "## $R^2$\n",
    "* Amount of variance explained by the model\n",
    "* Unitless;<br /><br />\n",
    "$$SS_{res} = \\sum_{i=1}^{m}(\\hat{y}_i - y_i)$$<br/><br />\n",
    "$$SS_{tot} = \\sum_{i=1}^{m}(y_i - \\bar{y})$$<br/><br />"
   ]
  },
  {
   "cell_type": "markdown",
   "metadata": {
    "slideshow": {
     "slide_type": "subslide"
    }
   },
   "source": [
    "# Error estimation\n",
    "\n",
    "## $R^2$\n",
    "$$R^2 = 1 - \\frac{SS_{res}}{SS_{tot}}$$"
   ]
  },
  {
   "cell_type": "markdown",
   "metadata": {
    "slideshow": {
     "slide_type": "slide"
    }
   },
   "source": [
    "# Clustering"
   ]
  },
  {
   "cell_type": "markdown",
   "metadata": {
    "slideshow": {
     "slide_type": "subslide"
    }
   },
   "source": [
    "# Clustering\n",
    "\n",
    "* Given a set of data points, group them into a clusters so that:\n",
    "    * points within each cluster are **similar to each other**\n",
    "    * points from different clusters are **dissimilar** \n",
    "* **Distance Measure**\n",
    "* Unsupervised learning"
   ]
  },
  {
   "cell_type": "markdown",
   "metadata": {
    "slideshow": {
     "slide_type": "subslide"
    }
   },
   "source": [
    "# Clustering\n",
    "* Example: group dogs according to their height and weight"
   ]
  },
  {
   "cell_type": "markdown",
   "metadata": {
    "slideshow": {
     "slide_type": "fragment"
    }
   },
   "source": [
    "<img src=\"clustering1.png\" />"
   ]
  },
  {
   "cell_type": "markdown",
   "metadata": {
    "slideshow": {
     "slide_type": "subslide"
    }
   },
   "source": [
    "# Clustering\n",
    "\n",
    "<img src=\"clustering2.png\" />"
   ]
  },
  {
   "cell_type": "markdown",
   "metadata": {
    "slideshow": {
     "slide_type": "subslide"
    }
   },
   "source": [
    "# Clustering\n",
    "\n",
    "<img src=\"clustering3.png\" />"
   ]
  },
  {
   "cell_type": "markdown",
   "metadata": {
    "slideshow": {
     "slide_type": "subslide"
    }
   },
   "source": [
    "# Clustering\n",
    "## Can be a very hard task\n",
    "\n",
    "<img src=\"clustering4.png\" />"
   ]
  },
  {
   "cell_type": "markdown",
   "metadata": {
    "slideshow": {
     "slide_type": "subslide"
    }
   },
   "source": [
    "# Clustering\n",
    "\n",
    "* Two intuitive ways of building:\n",
    "    * Hierarchical: each point starts as a cluster;\n",
    "        * Fusion of close clusters;\n",
    "        * How close is close enough?\n",
    "     * Point assignment:\n",
    "         * Define an initial number of clusters;\n",
    "         * Assign points to the closest cluster;"
   ]
  },
  {
   "cell_type": "markdown",
   "metadata": {
    "slideshow": {
     "slide_type": "subslide"
    }
   },
   "source": [
    "# Euclidean case\n",
    "* **Centroids**\n",
    "    * \"*Center of mass*\" for the data points;\n",
    "    * Average of points within a cluster;\n",
    "* Cluster represented by its centroid;\n",
    "* Distance between 2 clusters = distance between their centroids;\n"
   ]
  },
  {
   "cell_type": "markdown",
   "metadata": {
    "slideshow": {
     "slide_type": "subslide"
    }
   },
   "source": [
    "# Non-euclidean\n",
    "## Distance between points:\n",
    "* **Clustroids**: Closest point to other poits;\n",
    "\n",
    "    * Smallest maximum distance to the other points. \n",
    "    * Smallest average distance to other points. \n",
    "    * Smallest sum of squares of distances to other points.\n",
    "    * ..."
   ]
  },
  {
   "cell_type": "markdown",
   "metadata": {
    "slideshow": {
     "slide_type": "subslide"
    }
   },
   "source": [
    "# K-means algorithm\n",
    "\n",
    "1. Initialize centroids $\\mu_1, \\mu_2, \\mu_3, ...$\n",
    "\n",
    "<img src=\"clustering5.png\" />"
   ]
  },
  {
   "cell_type": "markdown",
   "metadata": {
    "slideshow": {
     "slide_type": "subslide"
    }
   },
   "source": [
    "# K-means algorithm\n",
    "\n",
    "2 . Assign points to the closest clusters;\n",
    "\n",
    "<img src=\"clustering6.png\" />"
   ]
  },
  {
   "cell_type": "markdown",
   "metadata": {
    "slideshow": {
     "slide_type": "subslide"
    }
   },
   "source": [
    "# K-means algorithm\n",
    "\n",
    "3 . Recalculate centroids positions\n",
    "\n",
    "<img src=\"clustering7.png\" />"
   ]
  },
  {
   "cell_type": "markdown",
   "metadata": {
    "slideshow": {
     "slide_type": "subslide"
    }
   },
   "source": [
    "# K-means algorithm\n",
    "4 . Reassign points to closest clusters\n",
    "\n",
    "<img src=\"clustering8.png\" />\n",
    "\n",
    "## Repeat until convergence!"
   ]
  },
  {
   "cell_type": "markdown",
   "metadata": {
    "slideshow": {
     "slide_type": "slide"
    }
   },
   "source": [
    "# Intel Data Analytics Acceleration Library (DAAL)"
   ]
  },
  {
   "cell_type": "markdown",
   "metadata": {
    "slideshow": {
     "slide_type": "subslide"
    }
   },
   "source": [
    "# Intel Data Analytics Acceleration Library\n",
    "* Delivers high application performance across spectrum of Intel®-architecture devices\n",
    "* Speeds time-to-value through data source and environment integration \n",
    "* Reduces application development time via wide selection of pre-optimized advanced analytics algorithms"
   ]
  },
  {
   "cell_type": "markdown",
   "metadata": {
    "slideshow": {
     "slide_type": "subslide"
    }
   },
   "source": [
    "\n",
    "# What is included?\n",
    "\n",
    "* Algorithms for:\n",
    "    * **Pre-processing**, **Transformation**, **Analysis**, **Modeling**.\n",
    "\n",
    "<center><img src=\"daal2.png\"/></center>"
   ]
  },
  {
   "cell_type": "markdown",
   "metadata": {
    "slideshow": {
     "slide_type": "subslide"
    }
   },
   "source": [
    "# Data Management\n",
    "\n",
    "* Data Table\n",
    "<center><img src=\"datatable.png\" width=400 style=\"transform:rotate(90deg);\"/></center>"
   ]
  },
  {
   "cell_type": "markdown",
   "metadata": {
    "slideshow": {
     "slide_type": "subslide"
    }
   },
   "source": [
    "# Data Management and Data Structures\n",
    "\n",
    "* **Heterogeneous Tables** are used when there are multiple data types in a data set (e.g.double, string, etc.) \n",
    "    * Structures supported: **Structures of Arrays (SoA)** and **Arrays of Structures (AoS)**. \n",
    "* **Homogeneous Tables** are used when the data set has only one type of data. \n",
    "    * Two types of homogeneous tables: **dense** and **sparse**. "
   ]
  },
  {
   "cell_type": "markdown",
   "metadata": {
    "slideshow": {
     "slide_type": "subslide"
    }
   },
   "source": [
    "# Data Management and Data Structures\n",
    "\n",
    "* **Matrices** are used when the application requires matrix algebra type workloads\n",
    "    * Three kinds of matrices supported: **dense matrix**, **packed symmetric matrix**, and **packed triangular matri-ces**. \n",
    "\n",
    "\n"
   ]
  },
  {
   "cell_type": "markdown",
   "metadata": {
    "slideshow": {
     "slide_type": "subslide"
    }
   },
   "source": [
    "# AOS vs SOA\n",
    "\n",
    "<center><img src=\"aos.png\" style=\"height:220px;\"/></center>\n",
    "<center><img src=\"soa.png\" style=\"height:320px;\"/></center>"
   ]
  },
  {
   "cell_type": "markdown",
   "metadata": {
    "slideshow": {
     "slide_type": "subslide"
    }
   },
   "source": [
    "# Why Use it?\n",
    "\n",
    "* Modes: \n",
    "    * **Batch**: the only compute method of a particular algorithm class is used; \n",
    "    * **Online**: this computation mode assumes that the data arrives in blocks;\n",
    "        * `compute()` method each time new input becomes available.\n",
    "        * When the last block of data arrives, call the `finalizeCompute()` method to produce final results;"
   ]
  },
  {
   "cell_type": "markdown",
   "metadata": {
    "slideshow": {
     "slide_type": "subslide"
    }
   },
   "source": [
    "# Why Use it?\n",
    "* Modes:\n",
    "    * **Distributed**: data sets distributed across several devices;\n",
    "        * Assumes that the data set is split in *nblocks* blocks across computation nodes.\n",
    "        * define the computation step for an algorithm; "
   ]
  },
  {
   "cell_type": "markdown",
   "metadata": {
    "slideshow": {
     "slide_type": "subslide"
    }
   },
   "source": [
    "# Why Use it? Distributed!\n",
    "\n",
    "* Provide the `computeStep` value to the constructor during initialization of the algorithm;\n",
    "* Use the `compute()` method on each computation node (partial results)\n",
    "* Provide the computeStep value to the constructor during initialization of the algorithm;\n",
    "* Use the `compute()` method on each computation node (partial results)"
   ]
  },
  {
   "cell_type": "markdown",
   "metadata": {
    "slideshow": {
     "slide_type": "subslide"
    }
   },
   "source": [
    "# Distributed processing\n",
    "\n",
    "<center><img src=\"distributed.png\" style=\"padding-top:40px; height:650px;\"/></center>"
   ]
  },
  {
   "cell_type": "markdown",
   "metadata": {
    "slideshow": {
     "slide_type": "subslide"
    }
   },
   "source": [
    "# Distributed processing\n",
    "\n",
    "<center><img src=\"distributed2.png\" style=\"padding-top:40px; height:650px;\"/></center>"
   ]
  },
  {
   "cell_type": "markdown",
   "metadata": {
    "slideshow": {
     "slide_type": "subslide"
    }
   },
   "source": [
    "\n",
    "# What about Spark?\n",
    "\n",
    "* Almost the same set of Algorithms.\n",
    "\n",
    "<center><img src=\"daal_vs_spark.png\"/></center>"
   ]
  },
  {
   "cell_type": "markdown",
   "metadata": {
    "slideshow": {
     "slide_type": "slide"
    }
   },
   "source": [
    "# Any questions?"
   ]
  },
  {
   "cell_type": "markdown",
   "metadata": {
    "slideshow": {
     "slide_type": "slide"
    }
   },
   "source": [
    "# We are hiring!\n",
    "\n",
    "* **Data science/HPC** specialists;\n",
    "* **Machine Learning** specialists;\n",
    "* Sysadmin to work on a **Software Defined Network** project;"
   ]
  }
 ],
 "metadata": {
  "celltoolbar": "Slideshow",
  "kernelspec": {
   "display_name": "Python 3",
   "language": "python",
   "name": "python3"
  },
  "language_info": {
   "codemirror_mode": {
    "name": "ipython",
    "version": 3
   },
   "file_extension": ".py",
   "mimetype": "text/x-python",
   "name": "python",
   "nbconvert_exporter": "python",
   "pygments_lexer": "ipython3",
   "version": "3.5.2"
  }
 },
 "nbformat": 4,
 "nbformat_minor": 0
}
